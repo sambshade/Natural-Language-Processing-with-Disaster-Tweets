{
 "cells": [
  {
   "cell_type": "markdown",
   "id": "47a7827f",
   "metadata": {
    "papermill": {
     "duration": 0.013806,
     "end_time": "2024-12-08T03:09:17.925014",
     "exception": false,
     "start_time": "2024-12-08T03:09:17.911208",
     "status": "completed"
    },
    "tags": []
   },
   "source": [
    "# Natural Language Processing with Disaster Tweets\n",
    "\n",
    "## Kaggle Project: \n",
    "Link: https://www.kaggle.com/c/nlp-getting-started/overview\n",
    "\n",
    "## Overview: \n",
    "In this competition, the task is to build a machine learning model that predicts which Tweets are about real disasters and which one’s aren’t. The columns for the training and test datasets are:\n",
    "\n",
    "- `id` a unique identifier for each tweet\n",
    "- `text` the text of the tweet\n",
    "- `location` the location the tweet was sent from (may be blank)\n",
    "- `keyword` a particular keyword from the tweet (may be blank)\n",
    "- `target` in train.csv only, this denotes whether a tweet is about a real disaster (1) or not (0)\n",
    "\n",
    "The selected models were a TF-IDF Vectorizer utilizing Logistic Regression and three different Recurrent Neural Networks (RNN) that use Bidirectional Long Short-Term Memory (LSTM) units. The first RNN model is utilized as a baseline model whereas the following two models represent some hyperparameter tuning. "
   ]
  },
  {
   "cell_type": "markdown",
   "id": "468318d8",
   "metadata": {
    "papermill": {
     "duration": 0.006684,
     "end_time": "2024-12-08T03:09:17.939512",
     "exception": false,
     "start_time": "2024-12-08T03:09:17.932828",
     "status": "completed"
    },
    "tags": []
   },
   "source": [
    "### Import Libraries: \n",
    "The necessary libraries needed for this project are imported below. "
   ]
  },
  {
   "cell_type": "code",
   "execution_count": 1,
   "id": "26c597be",
   "metadata": {
    "execution": {
     "iopub.execute_input": "2024-12-08T03:09:17.957479Z",
     "iopub.status.busy": "2024-12-08T03:09:17.956923Z",
     "iopub.status.idle": "2024-12-08T03:09:35.397510Z",
     "shell.execute_reply": "2024-12-08T03:09:35.396541Z"
    },
    "papermill": {
     "duration": 17.451755,
     "end_time": "2024-12-08T03:09:35.399934",
     "exception": false,
     "start_time": "2024-12-08T03:09:17.948179",
     "status": "completed"
    },
    "tags": []
   },
   "outputs": [],
   "source": [
    "# Math functions and plotting:\n",
    "import numpy as np \n",
    "import pandas as pd \n",
    "import seaborn as sns\n",
    "import matplotlib.pyplot as plt\n",
    "\n",
    "# sklearn for TfidVectorizer, train-test-split, and several metrics\n",
    "from sklearn.model_selection import train_test_split\n",
    "from sklearn.feature_extraction.text import TfidfVectorizer\n",
    "from sklearn.linear_model import LogisticRegression\n",
    "from sklearn.metrics import classification_report\n",
    "from sklearn.pipeline import Pipeline\n",
    "from sklearn.impute import SimpleImputer \n",
    "from sklearn.metrics import confusion_matrix, ConfusionMatrixDisplay\n",
    "from sklearn.metrics import accuracy_score, precision_score, recall_score, f1_score\n",
    "\n",
    "# For text preprocessing; utilizing PorterStemmer to reduce words to root form\n",
    "import re\n",
    "import nltk \n",
    "from nltk.stem import PorterStemmer\n",
    "\n",
    "# Tensorflow for tokenizing, padding, optimizing, regularizing, and for RNN \n",
    "from tensorflow.keras.preprocessing.text import Tokenizer\n",
    "from tensorflow.keras.preprocessing.sequence import pad_sequences\n",
    "from tensorflow.keras.models import Sequential\n",
    "from tensorflow.keras.layers import Embedding, LSTM, Dense, Dropout, Bidirectional\n",
    "from tensorflow.keras.regularizers import l2\n",
    "from tensorflow.keras.optimizers import Adam"
   ]
  },
  {
   "cell_type": "markdown",
   "id": "f6aa0b1e",
   "metadata": {
    "papermill": {
     "duration": 0.006889,
     "end_time": "2024-12-08T03:09:35.414425",
     "exception": false,
     "start_time": "2024-12-08T03:09:35.407536",
     "status": "completed"
    },
    "tags": []
   },
   "source": [
    "### Load the Data and Exploratory Data Analysis (EDA):\n",
    "Gather basic information regarding the dataframes and provide a histogram to understand the distribution of the target labels. "
   ]
  },
  {
   "cell_type": "code",
   "execution_count": 2,
   "id": "96c3326d",
   "metadata": {
    "execution": {
     "iopub.execute_input": "2024-12-08T03:09:35.430614Z",
     "iopub.status.busy": "2024-12-08T03:09:35.429927Z",
     "iopub.status.idle": "2024-12-08T03:09:35.498332Z",
     "shell.execute_reply": "2024-12-08T03:09:35.497422Z"
    },
    "papermill": {
     "duration": 0.079131,
     "end_time": "2024-12-08T03:09:35.500808",
     "exception": false,
     "start_time": "2024-12-08T03:09:35.421677",
     "status": "completed"
    },
    "tags": []
   },
   "outputs": [],
   "source": [
    "# Create dataframes for the test and training data\n",
    "test_df = pd.read_csv('/kaggle/input/nlp-getting-started/test.csv')\n",
    "train_df = pd.read_csv('/kaggle/input/nlp-getting-started/train.csv')"
   ]
  },
  {
   "cell_type": "code",
   "execution_count": 3,
   "id": "4d6c58b9",
   "metadata": {
    "execution": {
     "iopub.execute_input": "2024-12-08T03:09:35.517150Z",
     "iopub.status.busy": "2024-12-08T03:09:35.516777Z",
     "iopub.status.idle": "2024-12-08T03:09:35.535763Z",
     "shell.execute_reply": "2024-12-08T03:09:35.534548Z"
    },
    "papermill": {
     "duration": 0.029753,
     "end_time": "2024-12-08T03:09:35.538129",
     "exception": false,
     "start_time": "2024-12-08T03:09:35.508376",
     "status": "completed"
    },
    "tags": []
   },
   "outputs": [
    {
     "data": {
      "text/html": [
       "<div>\n",
       "<style scoped>\n",
       "    .dataframe tbody tr th:only-of-type {\n",
       "        vertical-align: middle;\n",
       "    }\n",
       "\n",
       "    .dataframe tbody tr th {\n",
       "        vertical-align: top;\n",
       "    }\n",
       "\n",
       "    .dataframe thead th {\n",
       "        text-align: right;\n",
       "    }\n",
       "</style>\n",
       "<table border=\"1\" class=\"dataframe\">\n",
       "  <thead>\n",
       "    <tr style=\"text-align: right;\">\n",
       "      <th></th>\n",
       "      <th>id</th>\n",
       "      <th>keyword</th>\n",
       "      <th>location</th>\n",
       "      <th>text</th>\n",
       "    </tr>\n",
       "  </thead>\n",
       "  <tbody>\n",
       "    <tr>\n",
       "      <th>0</th>\n",
       "      <td>0</td>\n",
       "      <td>NaN</td>\n",
       "      <td>NaN</td>\n",
       "      <td>Just happened a terrible car crash</td>\n",
       "    </tr>\n",
       "    <tr>\n",
       "      <th>1</th>\n",
       "      <td>2</td>\n",
       "      <td>NaN</td>\n",
       "      <td>NaN</td>\n",
       "      <td>Heard about #earthquake is different cities, s...</td>\n",
       "    </tr>\n",
       "    <tr>\n",
       "      <th>2</th>\n",
       "      <td>3</td>\n",
       "      <td>NaN</td>\n",
       "      <td>NaN</td>\n",
       "      <td>there is a forest fire at spot pond, geese are...</td>\n",
       "    </tr>\n",
       "    <tr>\n",
       "      <th>3</th>\n",
       "      <td>9</td>\n",
       "      <td>NaN</td>\n",
       "      <td>NaN</td>\n",
       "      <td>Apocalypse lighting. #Spokane #wildfires</td>\n",
       "    </tr>\n",
       "    <tr>\n",
       "      <th>4</th>\n",
       "      <td>11</td>\n",
       "      <td>NaN</td>\n",
       "      <td>NaN</td>\n",
       "      <td>Typhoon Soudelor kills 28 in China and Taiwan</td>\n",
       "    </tr>\n",
       "  </tbody>\n",
       "</table>\n",
       "</div>"
      ],
      "text/plain": [
       "   id keyword location                                               text\n",
       "0   0     NaN      NaN                 Just happened a terrible car crash\n",
       "1   2     NaN      NaN  Heard about #earthquake is different cities, s...\n",
       "2   3     NaN      NaN  there is a forest fire at spot pond, geese are...\n",
       "3   9     NaN      NaN           Apocalypse lighting. #Spokane #wildfires\n",
       "4  11     NaN      NaN      Typhoon Soudelor kills 28 in China and Taiwan"
      ]
     },
     "execution_count": 3,
     "metadata": {},
     "output_type": "execute_result"
    }
   ],
   "source": [
    "# Examine first 5 columns of the test data\n",
    "test_df.head()"
   ]
  },
  {
   "cell_type": "code",
   "execution_count": 4,
   "id": "110e9295",
   "metadata": {
    "execution": {
     "iopub.execute_input": "2024-12-08T03:09:35.554092Z",
     "iopub.status.busy": "2024-12-08T03:09:35.553705Z",
     "iopub.status.idle": "2024-12-08T03:09:35.560207Z",
     "shell.execute_reply": "2024-12-08T03:09:35.559146Z"
    },
    "papermill": {
     "duration": 0.016676,
     "end_time": "2024-12-08T03:09:35.562222",
     "exception": false,
     "start_time": "2024-12-08T03:09:35.545546",
     "status": "completed"
    },
    "tags": []
   },
   "outputs": [
    {
     "data": {
      "text/plain": [
       "(3263, 4)"
      ]
     },
     "execution_count": 4,
     "metadata": {},
     "output_type": "execute_result"
    }
   ],
   "source": [
    "# Examine the shape of the test data\n",
    "test_df.shape"
   ]
  },
  {
   "cell_type": "code",
   "execution_count": 5,
   "id": "188f840a",
   "metadata": {
    "execution": {
     "iopub.execute_input": "2024-12-08T03:09:35.578511Z",
     "iopub.status.busy": "2024-12-08T03:09:35.578098Z",
     "iopub.status.idle": "2024-12-08T03:09:35.588880Z",
     "shell.execute_reply": "2024-12-08T03:09:35.587918Z"
    },
    "papermill": {
     "duration": 0.021292,
     "end_time": "2024-12-08T03:09:35.590958",
     "exception": false,
     "start_time": "2024-12-08T03:09:35.569666",
     "status": "completed"
    },
    "tags": []
   },
   "outputs": [
    {
     "data": {
      "text/html": [
       "<div>\n",
       "<style scoped>\n",
       "    .dataframe tbody tr th:only-of-type {\n",
       "        vertical-align: middle;\n",
       "    }\n",
       "\n",
       "    .dataframe tbody tr th {\n",
       "        vertical-align: top;\n",
       "    }\n",
       "\n",
       "    .dataframe thead th {\n",
       "        text-align: right;\n",
       "    }\n",
       "</style>\n",
       "<table border=\"1\" class=\"dataframe\">\n",
       "  <thead>\n",
       "    <tr style=\"text-align: right;\">\n",
       "      <th></th>\n",
       "      <th>id</th>\n",
       "      <th>keyword</th>\n",
       "      <th>location</th>\n",
       "      <th>text</th>\n",
       "      <th>target</th>\n",
       "    </tr>\n",
       "  </thead>\n",
       "  <tbody>\n",
       "    <tr>\n",
       "      <th>0</th>\n",
       "      <td>1</td>\n",
       "      <td>NaN</td>\n",
       "      <td>NaN</td>\n",
       "      <td>Our Deeds are the Reason of this #earthquake M...</td>\n",
       "      <td>1</td>\n",
       "    </tr>\n",
       "    <tr>\n",
       "      <th>1</th>\n",
       "      <td>4</td>\n",
       "      <td>NaN</td>\n",
       "      <td>NaN</td>\n",
       "      <td>Forest fire near La Ronge Sask. Canada</td>\n",
       "      <td>1</td>\n",
       "    </tr>\n",
       "    <tr>\n",
       "      <th>2</th>\n",
       "      <td>5</td>\n",
       "      <td>NaN</td>\n",
       "      <td>NaN</td>\n",
       "      <td>All residents asked to 'shelter in place' are ...</td>\n",
       "      <td>1</td>\n",
       "    </tr>\n",
       "    <tr>\n",
       "      <th>3</th>\n",
       "      <td>6</td>\n",
       "      <td>NaN</td>\n",
       "      <td>NaN</td>\n",
       "      <td>13,000 people receive #wildfires evacuation or...</td>\n",
       "      <td>1</td>\n",
       "    </tr>\n",
       "    <tr>\n",
       "      <th>4</th>\n",
       "      <td>7</td>\n",
       "      <td>NaN</td>\n",
       "      <td>NaN</td>\n",
       "      <td>Just got sent this photo from Ruby #Alaska as ...</td>\n",
       "      <td>1</td>\n",
       "    </tr>\n",
       "  </tbody>\n",
       "</table>\n",
       "</div>"
      ],
      "text/plain": [
       "   id keyword location                                               text  \\\n",
       "0   1     NaN      NaN  Our Deeds are the Reason of this #earthquake M...   \n",
       "1   4     NaN      NaN             Forest fire near La Ronge Sask. Canada   \n",
       "2   5     NaN      NaN  All residents asked to 'shelter in place' are ...   \n",
       "3   6     NaN      NaN  13,000 people receive #wildfires evacuation or...   \n",
       "4   7     NaN      NaN  Just got sent this photo from Ruby #Alaska as ...   \n",
       "\n",
       "   target  \n",
       "0       1  \n",
       "1       1  \n",
       "2       1  \n",
       "3       1  \n",
       "4       1  "
      ]
     },
     "execution_count": 5,
     "metadata": {},
     "output_type": "execute_result"
    }
   ],
   "source": [
    "# Examine first 5 columns of the train data\n",
    "train_df.head()"
   ]
  },
  {
   "cell_type": "code",
   "execution_count": 6,
   "id": "765d7789",
   "metadata": {
    "execution": {
     "iopub.execute_input": "2024-12-08T03:09:35.607310Z",
     "iopub.status.busy": "2024-12-08T03:09:35.606935Z",
     "iopub.status.idle": "2024-12-08T03:09:35.613111Z",
     "shell.execute_reply": "2024-12-08T03:09:35.612149Z"
    },
    "papermill": {
     "duration": 0.016542,
     "end_time": "2024-12-08T03:09:35.614966",
     "exception": false,
     "start_time": "2024-12-08T03:09:35.598424",
     "status": "completed"
    },
    "tags": []
   },
   "outputs": [
    {
     "data": {
      "text/plain": [
       "(7613, 5)"
      ]
     },
     "execution_count": 6,
     "metadata": {},
     "output_type": "execute_result"
    }
   ],
   "source": [
    "# Examine the shape of the train data\n",
    "train_df.shape"
   ]
  },
  {
   "cell_type": "code",
   "execution_count": 7,
   "id": "8bc38826",
   "metadata": {
    "execution": {
     "iopub.execute_input": "2024-12-08T03:09:35.632637Z",
     "iopub.status.busy": "2024-12-08T03:09:35.631533Z",
     "iopub.status.idle": "2024-12-08T03:09:35.892890Z",
     "shell.execute_reply": "2024-12-08T03:09:35.891841Z"
    },
    "papermill": {
     "duration": 0.272197,
     "end_time": "2024-12-08T03:09:35.895132",
     "exception": false,
     "start_time": "2024-12-08T03:09:35.622935",
     "status": "completed"
    },
    "tags": []
   },
   "outputs": [
    {
     "name": "stderr",
     "output_type": "stream",
     "text": [
      "/opt/conda/lib/python3.10/site-packages/seaborn/_oldcore.py:1119: FutureWarning: use_inf_as_na option is deprecated and will be removed in a future version. Convert inf values to NaN before operating instead.\n",
      "  with pd.option_context('mode.use_inf_as_na', True):\n",
      "/opt/conda/lib/python3.10/site-packages/seaborn/_oldcore.py:1075: FutureWarning: When grouping with a length-1 list-like, you will need to pass a length-1 tuple to get_group in a future version of pandas. Pass `(name,)` instead of `name` to silence this warning.\n",
      "  data_subset = grouped_data.get_group(pd_key)\n",
      "/opt/conda/lib/python3.10/site-packages/seaborn/_oldcore.py:1075: FutureWarning: When grouping with a length-1 list-like, you will need to pass a length-1 tuple to get_group in a future version of pandas. Pass `(name,)` instead of `name` to silence this warning.\n",
      "  data_subset = grouped_data.get_group(pd_key)\n",
      "/opt/conda/lib/python3.10/site-packages/seaborn/_oldcore.py:1075: FutureWarning: When grouping with a length-1 list-like, you will need to pass a length-1 tuple to get_group in a future version of pandas. Pass `(name,)` instead of `name` to silence this warning.\n",
      "  data_subset = grouped_data.get_group(pd_key)\n"
     ]
    },
    {
     "data": {
      "image/png": "[encoded data removed]",
      "text/plain": [
       "<Figure size 640x480 with 1 Axes>"
      ]
     },
     "metadata": {},
     "output_type": "display_data"
    }
   ],
   "source": [
    "# Plot the distribution of the Target Classes for 0 and 1\n",
    "sns.histplot(data=train_df, \n",
    "             x=\"target\", \n",
    "             hue=\"target\", \n",
    "             legend=False, \n",
    "             discrete=True, \n",
    "             binwidth=0.6)\n",
    "plt.xticks([0,1])\n",
    "plt.xlabel(\"Target (0: Not a Disaster | 1: Disaster)\")\n",
    "plt.title(\"Distribution of Label Class 0 and 1\")\n",
    "plt.show()"
   ]
  },
  {
   "cell_type": "code",
   "execution_count": 8,
   "id": "d0fcd4b8",
   "metadata": {
    "execution": {
     "iopub.execute_input": "2024-12-08T03:09:35.914587Z",
     "iopub.status.busy": "2024-12-08T03:09:35.913734Z",
     "iopub.status.idle": "2024-12-08T03:09:38.685699Z",
     "shell.execute_reply": "2024-12-08T03:09:38.684512Z"
    },
    "papermill": {
     "duration": 2.785015,
     "end_time": "2024-12-08T03:09:38.688149",
     "exception": false,
     "start_time": "2024-12-08T03:09:35.903134",
     "status": "completed"
    },
    "tags": []
   },
   "outputs": [],
   "source": [
    "# Create the PorterStemmer for the language processing\n",
    "stemmer = PorterStemmer()\n",
    "\n",
    "# Create a preprocessing function that lowercases each letter, removes punctuation,\n",
    "# and applies the PorterStemmer. The # was kept as it would like indicate significance\n",
    "# in the model since twitter is known for hastagging\n",
    "def text_preprocesser(text):\n",
    "    text = text.lower()\n",
    "    text = re.sub(r\"[^\\w\\s]\", \"\", text)  \n",
    "    text = ' '.join([stemmer.stem(word) for word in text.split()]) \n",
    "    return text\n",
    "\n",
    "# Utilize the text_preprocessor on the train and test data\n",
    "train_df['text'] = train_df['text'].apply(text_preprocesser)\n",
    "test_df['text'] = test_df['text'].apply(text_preprocesser)"
   ]
  },
  {
   "cell_type": "code",
   "execution_count": 9,
   "id": "3d8e3f6d",
   "metadata": {
    "execution": {
     "iopub.execute_input": "2024-12-08T03:09:38.705938Z",
     "iopub.status.busy": "2024-12-08T03:09:38.705558Z",
     "iopub.status.idle": "2024-12-08T03:09:38.716557Z",
     "shell.execute_reply": "2024-12-08T03:09:38.715448Z"
    },
    "papermill": {
     "duration": 0.022331,
     "end_time": "2024-12-08T03:09:38.718619",
     "exception": false,
     "start_time": "2024-12-08T03:09:38.696288",
     "status": "completed"
    },
    "tags": []
   },
   "outputs": [
    {
     "data": {
      "text/html": [
       "<div>\n",
       "<style scoped>\n",
       "    .dataframe tbody tr th:only-of-type {\n",
       "        vertical-align: middle;\n",
       "    }\n",
       "\n",
       "    .dataframe tbody tr th {\n",
       "        vertical-align: top;\n",
       "    }\n",
       "\n",
       "    .dataframe thead th {\n",
       "        text-align: right;\n",
       "    }\n",
       "</style>\n",
       "<table border=\"1\" class=\"dataframe\">\n",
       "  <thead>\n",
       "    <tr style=\"text-align: right;\">\n",
       "      <th></th>\n",
       "      <th>id</th>\n",
       "      <th>keyword</th>\n",
       "      <th>location</th>\n",
       "      <th>text</th>\n",
       "    </tr>\n",
       "  </thead>\n",
       "  <tbody>\n",
       "    <tr>\n",
       "      <th>0</th>\n",
       "      <td>0</td>\n",
       "      <td>NaN</td>\n",
       "      <td>NaN</td>\n",
       "      <td>just happen a terribl car crash</td>\n",
       "    </tr>\n",
       "    <tr>\n",
       "      <th>1</th>\n",
       "      <td>2</td>\n",
       "      <td>NaN</td>\n",
       "      <td>NaN</td>\n",
       "      <td>heard about earthquak is differ citi stay safe...</td>\n",
       "    </tr>\n",
       "    <tr>\n",
       "      <th>2</th>\n",
       "      <td>3</td>\n",
       "      <td>NaN</td>\n",
       "      <td>NaN</td>\n",
       "      <td>there is a forest fire at spot pond gees are f...</td>\n",
       "    </tr>\n",
       "    <tr>\n",
       "      <th>3</th>\n",
       "      <td>9</td>\n",
       "      <td>NaN</td>\n",
       "      <td>NaN</td>\n",
       "      <td>apocalyps light spokan wildfir</td>\n",
       "    </tr>\n",
       "    <tr>\n",
       "      <th>4</th>\n",
       "      <td>11</td>\n",
       "      <td>NaN</td>\n",
       "      <td>NaN</td>\n",
       "      <td>typhoon soudelor kill 28 in china and taiwan</td>\n",
       "    </tr>\n",
       "  </tbody>\n",
       "</table>\n",
       "</div>"
      ],
      "text/plain": [
       "   id keyword location                                               text\n",
       "0   0     NaN      NaN                    just happen a terribl car crash\n",
       "1   2     NaN      NaN  heard about earthquak is differ citi stay safe...\n",
       "2   3     NaN      NaN  there is a forest fire at spot pond gees are f...\n",
       "3   9     NaN      NaN                     apocalyps light spokan wildfir\n",
       "4  11     NaN      NaN       typhoon soudelor kill 28 in china and taiwan"
      ]
     },
     "execution_count": 9,
     "metadata": {},
     "output_type": "execute_result"
    }
   ],
   "source": [
    "# Investigate the first 5 columns of the test data to confirm text_preprocessor works\n",
    "test_df.head()"
   ]
  },
  {
   "cell_type": "code",
   "execution_count": 10,
   "id": "cdacafc2",
   "metadata": {
    "execution": {
     "iopub.execute_input": "2024-12-08T03:09:38.736865Z",
     "iopub.status.busy": "2024-12-08T03:09:38.736477Z",
     "iopub.status.idle": "2024-12-08T03:09:38.747560Z",
     "shell.execute_reply": "2024-12-08T03:09:38.746461Z"
    },
    "papermill": {
     "duration": 0.022771,
     "end_time": "2024-12-08T03:09:38.749721",
     "exception": false,
     "start_time": "2024-12-08T03:09:38.726950",
     "status": "completed"
    },
    "tags": []
   },
   "outputs": [
    {
     "data": {
      "text/html": [
       "<div>\n",
       "<style scoped>\n",
       "    .dataframe tbody tr th:only-of-type {\n",
       "        vertical-align: middle;\n",
       "    }\n",
       "\n",
       "    .dataframe tbody tr th {\n",
       "        vertical-align: top;\n",
       "    }\n",
       "\n",
       "    .dataframe thead th {\n",
       "        text-align: right;\n",
       "    }\n",
       "</style>\n",
       "<table border=\"1\" class=\"dataframe\">\n",
       "  <thead>\n",
       "    <tr style=\"text-align: right;\">\n",
       "      <th></th>\n",
       "      <th>id</th>\n",
       "      <th>keyword</th>\n",
       "      <th>location</th>\n",
       "      <th>text</th>\n",
       "      <th>target</th>\n",
       "    </tr>\n",
       "  </thead>\n",
       "  <tbody>\n",
       "    <tr>\n",
       "      <th>0</th>\n",
       "      <td>1</td>\n",
       "      <td>NaN</td>\n",
       "      <td>NaN</td>\n",
       "      <td>our deed are the reason of thi earthquak may a...</td>\n",
       "      <td>1</td>\n",
       "    </tr>\n",
       "    <tr>\n",
       "      <th>1</th>\n",
       "      <td>4</td>\n",
       "      <td>NaN</td>\n",
       "      <td>NaN</td>\n",
       "      <td>forest fire near la rong sask canada</td>\n",
       "      <td>1</td>\n",
       "    </tr>\n",
       "    <tr>\n",
       "      <th>2</th>\n",
       "      <td>5</td>\n",
       "      <td>NaN</td>\n",
       "      <td>NaN</td>\n",
       "      <td>all resid ask to shelter in place are be notif...</td>\n",
       "      <td>1</td>\n",
       "    </tr>\n",
       "    <tr>\n",
       "      <th>3</th>\n",
       "      <td>6</td>\n",
       "      <td>NaN</td>\n",
       "      <td>NaN</td>\n",
       "      <td>13000 peopl receiv wildfir evacu order in cali...</td>\n",
       "      <td>1</td>\n",
       "    </tr>\n",
       "    <tr>\n",
       "      <th>4</th>\n",
       "      <td>7</td>\n",
       "      <td>NaN</td>\n",
       "      <td>NaN</td>\n",
       "      <td>just got sent thi photo from rubi alaska as sm...</td>\n",
       "      <td>1</td>\n",
       "    </tr>\n",
       "  </tbody>\n",
       "</table>\n",
       "</div>"
      ],
      "text/plain": [
       "   id keyword location                                               text  \\\n",
       "0   1     NaN      NaN  our deed are the reason of thi earthquak may a...   \n",
       "1   4     NaN      NaN               forest fire near la rong sask canada   \n",
       "2   5     NaN      NaN  all resid ask to shelter in place are be notif...   \n",
       "3   6     NaN      NaN  13000 peopl receiv wildfir evacu order in cali...   \n",
       "4   7     NaN      NaN  just got sent thi photo from rubi alaska as sm...   \n",
       "\n",
       "   target  \n",
       "0       1  \n",
       "1       1  \n",
       "2       1  \n",
       "3       1  \n",
       "4       1  "
      ]
     },
     "execution_count": 10,
     "metadata": {},
     "output_type": "execute_result"
    }
   ],
   "source": [
    "# Investigate the first 5 columns of the train data to confirm text_preprocessor works\n",
    "train_df.head()"
   ]
  },
  {
   "cell_type": "code",
   "execution_count": 11,
   "id": "ebe9aad7",
   "metadata": {
    "execution": {
     "iopub.execute_input": "2024-12-08T03:09:38.769028Z",
     "iopub.status.busy": "2024-12-08T03:09:38.768196Z",
     "iopub.status.idle": "2024-12-08T03:09:38.778006Z",
     "shell.execute_reply": "2024-12-08T03:09:38.776988Z"
    },
    "papermill": {
     "duration": 0.021625,
     "end_time": "2024-12-08T03:09:38.780004",
     "exception": false,
     "start_time": "2024-12-08T03:09:38.758379",
     "status": "completed"
    },
    "tags": []
   },
   "outputs": [],
   "source": [
    "# Train, test, split on the train data\n",
    "X = train_df['text']\n",
    "y = train_df['target']\n",
    "X_train, X_val, y_train, y_val = train_test_split(X,\n",
    "                                                 y,\n",
    "                                                 test_size=0.2,\n",
    "                                                 random_state=42\n",
    "                                                 )"
   ]
  },
  {
   "cell_type": "markdown",
   "id": "de58a0c1",
   "metadata": {
    "papermill": {
     "duration": 0.007997,
     "end_time": "2024-12-08T03:09:38.796874",
     "exception": false,
     "start_time": "2024-12-08T03:09:38.788877",
     "status": "completed"
    },
    "tags": []
   },
   "source": [
    "## TF-IDF Vectorization and Logistic Regression:\n",
    "Utilizing the TF-IDF (Term Frequence-Inverted Document Frequency) Vectorization to convert the text data into numerical features and a logistic regression model, we can gather a baseline prediction to later compare to our RNN models. "
   ]
  },
  {
   "cell_type": "code",
   "execution_count": 12,
   "id": "7711dace",
   "metadata": {
    "execution": {
     "iopub.execute_input": "2024-12-08T03:09:38.815329Z",
     "iopub.status.busy": "2024-12-08T03:09:38.814933Z",
     "iopub.status.idle": "2024-12-08T03:09:39.003038Z",
     "shell.execute_reply": "2024-12-08T03:09:39.001886Z"
    },
    "papermill": {
     "duration": 0.20019,
     "end_time": "2024-12-08T03:09:39.005513",
     "exception": false,
     "start_time": "2024-12-08T03:09:38.805323",
     "status": "completed"
    },
    "tags": []
   },
   "outputs": [
    {
     "data": {
      "text/html": [
       "<style>#sk-container-id-1 {color: black;background-color: white;}#sk-container-id-1 pre{padding: 0;}#sk-container-id-1 div.sk-toggleable {background-color: white;}#sk-container-id-1 label.sk-toggleable__label {cursor: pointer;display: block;width: 100%;margin-bottom: 0;padding: 0.3em;box-sizing: border-box;text-align: center;}#sk-container-id-1 label.sk-toggleable__label-arrow:before {content: \"▸\";float: left;margin-right: 0.25em;color: #696969;}#sk-container-id-1 label.sk-toggleable__label-arrow:hover:before {color: black;}#sk-container-id-1 div.sk-estimator:hover label.sk-toggleable__label-arrow:before {color: black;}#sk-container-id-1 div.sk-toggleable__content {max-height: 0;max-width: 0;overflow: hidden;text-align: left;background-color: #f0f8ff;}#sk-container-id-1 div.sk-toggleable__content pre {margin: 0.2em;color: black;border-radius: 0.25em;background-color: #f0f8ff;}#sk-container-id-1 input.sk-toggleable__control:checked~div.sk-toggleable__content {max-height: 200px;max-width: 100%;overflow: auto;}#sk-container-id-1 input.sk-toggleable__control:checked~label.sk-toggleable__label-arrow:before {content: \"▾\";}#sk-container-id-1 div.sk-estimator input.sk-toggleable__control:checked~label.sk-toggleable__label {background-color: #d4ebff;}#sk-container-id-1 div.sk-label input.sk-toggleable__control:checked~label.sk-toggleable__label {background-color: #d4ebff;}#sk-container-id-1 input.sk-hidden--visually {border: 0;clip: rect(1px 1px 1px 1px);clip: rect(1px, 1px, 1px, 1px);height: 1px;margin: -1px;overflow: hidden;padding: 0;position: absolute;width: 1px;}#sk-container-id-1 div.sk-estimator {font-family: monospace;background-color: #f0f8ff;border: 1px dotted black;border-radius: 0.25em;box-sizing: border-box;margin-bottom: 0.5em;}#sk-container-id-1 div.sk-estimator:hover {background-color: #d4ebff;}#sk-container-id-1 div.sk-parallel-item::after {content: \"\";width: 100%;border-bottom: 1px solid gray;flex-grow: 1;}#sk-container-id-1 div.sk-label:hover label.sk-toggleable__label {background-color: #d4ebff;}#sk-container-id-1 div.sk-serial::before {content: \"\";position: absolute;border-left: 1px solid gray;box-sizing: border-box;top: 0;bottom: 0;left: 50%;z-index: 0;}#sk-container-id-1 div.sk-serial {display: flex;flex-direction: column;align-items: center;background-color: white;padding-right: 0.2em;padding-left: 0.2em;position: relative;}#sk-container-id-1 div.sk-item {position: relative;z-index: 1;}#sk-container-id-1 div.sk-parallel {display: flex;align-items: stretch;justify-content: center;background-color: white;position: relative;}#sk-container-id-1 div.sk-item::before, #sk-container-id-1 div.sk-parallel-item::before {content: \"\";position: absolute;border-left: 1px solid gray;box-sizing: border-box;top: 0;bottom: 0;left: 50%;z-index: -1;}#sk-container-id-1 div.sk-parallel-item {display: flex;flex-direction: column;z-index: 1;position: relative;background-color: white;}#sk-container-id-1 div.sk-parallel-item:first-child::after {align-self: flex-end;width: 50%;}#sk-container-id-1 div.sk-parallel-item:last-child::after {align-self: flex-start;width: 50%;}#sk-container-id-1 div.sk-parallel-item:only-child::after {width: 0;}#sk-container-id-1 div.sk-dashed-wrapped {border: 1px dashed gray;margin: 0 0.4em 0.5em 0.4em;box-sizing: border-box;padding-bottom: 0.4em;background-color: white;}#sk-container-id-1 div.sk-label label {font-family: monospace;font-weight: bold;display: inline-block;line-height: 1.2em;}#sk-container-id-1 div.sk-label-container {text-align: center;}#sk-container-id-1 div.sk-container {/* jupyter's `normalize.less` sets `[hidden] { display: none; }` but bootstrap.min.css set `[hidden] { display: none !important; }` so we also need the `!important` here to be able to override the default hidden behavior on the sphinx rendered scikit-learn.org. See: https://github.com/scikit-learn/scikit-learn/issues/21755 */display: inline-block !important;position: relative;}#sk-container-id-1 div.sk-text-repr-fallback {display: none;}</style><div id=\"sk-container-id-1\" class=\"sk-top-container\"><div class=\"sk-text-repr-fallback\"><pre>Pipeline(steps=[(&#x27;tfidf&#x27;,\n",
       "                 TfidfVectorizer(max_features=1000, stop_words=&#x27;english&#x27;)),\n",
       "                (&#x27;clf&#x27;, LogisticRegression())])</pre><b>In a Jupyter environment, please rerun this cell to show the HTML representation or trust the notebook. <br />On GitHub, the HTML representation is unable to render, please try loading this page with nbviewer.org.</b></div><div class=\"sk-container\" hidden><div class=\"sk-item sk-dashed-wrapped\"><div class=\"sk-label-container\"><div class=\"sk-label sk-toggleable\"><input class=\"sk-toggleable__control sk-hidden--visually\" id=\"sk-estimator-id-1\" type=\"checkbox\" ><label for=\"sk-estimator-id-1\" class=\"sk-toggleable__label sk-toggleable__label-arrow\">Pipeline</label><div class=\"sk-toggleable__content\"><pre>Pipeline(steps=[(&#x27;tfidf&#x27;,\n",
       "                 TfidfVectorizer(max_features=1000, stop_words=&#x27;english&#x27;)),\n",
       "                (&#x27;clf&#x27;, LogisticRegression())])</pre></div></div></div><div class=\"sk-serial\"><div class=\"sk-item\"><div class=\"sk-estimator sk-toggleable\"><input class=\"sk-toggleable__control sk-hidden--visually\" id=\"sk-estimator-id-2\" type=\"checkbox\" ><label for=\"sk-estimator-id-2\" class=\"sk-toggleable__label sk-toggleable__label-arrow\">TfidfVectorizer</label><div class=\"sk-toggleable__content\"><pre>TfidfVectorizer(max_features=1000, stop_words=&#x27;english&#x27;)</pre></div></div></div><div class=\"sk-item\"><div class=\"sk-estimator sk-toggleable\"><input class=\"sk-toggleable__control sk-hidden--visually\" id=\"sk-estimator-id-3\" type=\"checkbox\" ><label for=\"sk-estimator-id-3\" class=\"sk-toggleable__label sk-toggleable__label-arrow\">LogisticRegression</label><div class=\"sk-toggleable__content\"><pre>LogisticRegression()</pre></div></div></div></div></div></div></div>"
      ],
      "text/plain": [
       "Pipeline(steps=[('tfidf',\n",
       "                 TfidfVectorizer(max_features=1000, stop_words='english')),\n",
       "                ('clf', LogisticRegression())])"
      ]
     },
     "execution_count": 12,
     "metadata": {},
     "output_type": "execute_result"
    }
   ],
   "source": [
    "pipeline = Pipeline([\n",
    "    ('tfidf', TfidfVectorizer(max_features=1000, stop_words='english')),\n",
    "    ('clf', LogisticRegression())\n",
    "])\n",
    "pipeline.fit(X_train, y_train)"
   ]
  },
  {
   "cell_type": "code",
   "execution_count": 13,
   "id": "e0271cfd",
   "metadata": {
    "execution": {
     "iopub.execute_input": "2024-12-08T03:09:39.024796Z",
     "iopub.status.busy": "2024-12-08T03:09:39.024375Z",
     "iopub.status.idle": "2024-12-08T03:09:39.062988Z",
     "shell.execute_reply": "2024-12-08T03:09:39.061850Z"
    },
    "papermill": {
     "duration": 0.051037,
     "end_time": "2024-12-08T03:09:39.065419",
     "exception": false,
     "start_time": "2024-12-08T03:09:39.014382",
     "status": "completed"
    },
    "tags": []
   },
   "outputs": [
    {
     "name": "stdout",
     "output_type": "stream",
     "text": [
      "              precision    recall  f1-score   support\n",
      "\n",
      "           0       0.80      0.87      0.83       874\n",
      "           1       0.80      0.70      0.75       649\n",
      "\n",
      "    accuracy                           0.80      1523\n",
      "   macro avg       0.80      0.78      0.79      1523\n",
      "weighted avg       0.80      0.80      0.79      1523\n",
      "\n"
     ]
    }
   ],
   "source": [
    "# Print the results (precision, recall, f1, accuracy)\n",
    "y_val_pred = pipeline.predict(X_val)\n",
    "\n",
    "print(classification_report(y_val, y_val_pred))"
   ]
  },
  {
   "cell_type": "markdown",
   "id": "d6a7e61a",
   "metadata": {
    "papermill": {
     "duration": 0.008199,
     "end_time": "2024-12-08T03:09:39.082227",
     "exception": false,
     "start_time": "2024-12-08T03:09:39.074028",
     "status": "completed"
    },
    "tags": []
   },
   "source": [
    "# First RNN Model Utilizing LSTM\n",
    "Before the model was operated, the textual data was further preprocessed by tokenization and padding. The breakdown of the first RNN Model Utilizing LSTM is detailed below:\n",
    "\n",
    "**Input:**\n",
    "- `vocab_size`: 20,000 most frequent units stored in the vocabulary. The Out Of Vocabulary (OOV) are placed with a special key in the tokenizer. \n",
    "- `max_length`: 100 tokens for input that are padded or truncated.\n",
    "\n",
    "**Architecture:**\n",
    "- Embedding Layer\n",
    "    - `embedding_dim` set to 128\n",
    "- First Bidirectional LSTM Layer\n",
    "    - 128 LSTM units utilizing bidirectional processing\n",
    "- Dropout Layer\n",
    "    - Dropout rate set to 0.3\n",
    "- Second Bidirectional LSTM Layer\n",
    "    - 64 LSTM units utilizing bidirectional processing\n",
    "- Dropout Layer\n",
    "    - Dropout rate set to 0.3\n",
    "- Fully Connected Dense Layer\n",
    "    - 64 neurons utilizing ReLU activation.\n",
    "- Ouput Layer\n",
    "    - 1 neuron utilizing sigmoid activation.\n",
    "- Optimizer:\n",
    "    - Adam with default learning rate\n",
    "- Loss Function:\n",
    "    - Binary Crossentropy\n",
    "- Metrics:\n",
    "    - Accuracy "
   ]
  },
  {
   "cell_type": "code",
   "execution_count": 14,
   "id": "d70a267e",
   "metadata": {
    "execution": {
     "iopub.execute_input": "2024-12-08T03:09:39.101228Z",
     "iopub.status.busy": "2024-12-08T03:09:39.100849Z",
     "iopub.status.idle": "2024-12-08T03:09:39.491439Z",
     "shell.execute_reply": "2024-12-08T03:09:39.490153Z"
    },
    "papermill": {
     "duration": 0.403321,
     "end_time": "2024-12-08T03:09:39.494144",
     "exception": false,
     "start_time": "2024-12-08T03:09:39.090823",
     "status": "completed"
    },
    "tags": []
   },
   "outputs": [
    {
     "name": "stdout",
     "output_type": "stream",
     "text": [
      "X_train_padded shape: (7613, 100)\n",
      "X_test_padded shape: (3263, 100)\n",
      "y_train shape: (7613,)\n"
     ]
    }
   ],
   "source": [
    "# Input information for the tokenizer and padding\n",
    "vocab_size = 20000\n",
    "max_length = 100\n",
    "embedding_dim = 128\n",
    "dropout_rate = 0.3\n",
    "\n",
    "# Create tokenizer\n",
    "tokenizer = Tokenizer(num_words=vocab_size, oov_token=\"<OOV>\")\n",
    "tokenizer.fit_on_texts(train_df['text'])\n",
    "\n",
    "# Apply the tokenizer\n",
    "X_train_seq = tokenizer.texts_to_sequences(train_df['text'])\n",
    "X_test_seq = tokenizer.texts_to_sequences(test_df['text'])\n",
    "\n",
    "# Apply the padding\n",
    "X_train_padded = pad_sequences(X_train_seq, maxlen=max_length, padding='post', truncating='post')\n",
    "X_test_padded = pad_sequences(X_test_seq, maxlen=max_length, padding='post', truncating='post')\n",
    "\n",
    "y_train = train_df['target'].values\n",
    "\n",
    "# Check the shapes\n",
    "print(\"X_train_padded shape:\", X_train_padded.shape)\n",
    "print(\"X_test_padded shape:\", X_test_padded.shape)\n",
    "print(\"y_train shape:\", y_train.shape)"
   ]
  },
  {
   "cell_type": "code",
   "execution_count": 15,
   "id": "9bc695ff",
   "metadata": {
    "execution": {
     "iopub.execute_input": "2024-12-08T03:09:39.523307Z",
     "iopub.status.busy": "2024-12-08T03:09:39.522484Z",
     "iopub.status.idle": "2024-12-08T03:09:39.785947Z",
     "shell.execute_reply": "2024-12-08T03:09:39.784835Z"
    },
    "papermill": {
     "duration": 0.281104,
     "end_time": "2024-12-08T03:09:39.788809",
     "exception": false,
     "start_time": "2024-12-08T03:09:39.507705",
     "status": "completed"
    },
    "tags": []
   },
   "outputs": [
    {
     "name": "stderr",
     "output_type": "stream",
     "text": [
      "/opt/conda/lib/python3.10/site-packages/keras/src/layers/core/embedding.py:90: UserWarning: Argument `input_length` is deprecated. Just remove it.\n",
      "  warnings.warn(\n"
     ]
    },
    {
     "data": {
      "text/html": [
       "<pre style=\"white-space:pre;overflow-x:auto;line-height:normal;font-family:Menlo,'DejaVu Sans Mono',consolas,'Courier New',monospace\"><span style=\"font-weight: bold\">Model: \"sequential\"</span>\n",
       "</pre>\n"
      ],
      "text/plain": [
       "\u001b[1mModel: \"sequential\"\u001b[0m\n"
      ]
     },
     "metadata": {},
     "output_type": "display_data"
    },
    {
     "data": {
      "text/html": [
       "<pre style=\"white-space:pre;overflow-x:auto;line-height:normal;font-family:Menlo,'DejaVu Sans Mono',consolas,'Courier New',monospace\">┏━━━━━━━━━━━━━━━━━━━━━━━━━━━━━━━━━┳━━━━━━━━━━━━━━━━━━━━━━━━┳━━━━━━━━━━━━━━━┓\n",
       "┃<span style=\"font-weight: bold\"> Layer (type)                    </span>┃<span style=\"font-weight: bold\"> Output Shape           </span>┃<span style=\"font-weight: bold\">       Param # </span>┃\n",
       "┡━━━━━━━━━━━━━━━━━━━━━━━━━━━━━━━━━╇━━━━━━━━━━━━━━━━━━━━━━━━╇━━━━━━━━━━━━━━━┩\n",
       "│ embedding (<span style=\"color: #0087ff; text-decoration-color: #0087ff\">Embedding</span>)           │ (<span style=\"color: #00d7ff; text-decoration-color: #00d7ff\">None</span>, <span style=\"color: #00af00; text-decoration-color: #00af00\">100</span>, <span style=\"color: #00af00; text-decoration-color: #00af00\">128</span>)       │     <span style=\"color: #00af00; text-decoration-color: #00af00\">2,560,000</span> │\n",
       "├─────────────────────────────────┼────────────────────────┼───────────────┤\n",
       "│ bidirectional (<span style=\"color: #0087ff; text-decoration-color: #0087ff\">Bidirectional</span>)   │ (<span style=\"color: #00d7ff; text-decoration-color: #00d7ff\">None</span>, <span style=\"color: #00af00; text-decoration-color: #00af00\">100</span>, <span style=\"color: #00af00; text-decoration-color: #00af00\">256</span>)       │       <span style=\"color: #00af00; text-decoration-color: #00af00\">263,168</span> │\n",
       "├─────────────────────────────────┼────────────────────────┼───────────────┤\n",
       "│ dropout (<span style=\"color: #0087ff; text-decoration-color: #0087ff\">Dropout</span>)               │ (<span style=\"color: #00d7ff; text-decoration-color: #00d7ff\">None</span>, <span style=\"color: #00af00; text-decoration-color: #00af00\">100</span>, <span style=\"color: #00af00; text-decoration-color: #00af00\">256</span>)       │             <span style=\"color: #00af00; text-decoration-color: #00af00\">0</span> │\n",
       "├─────────────────────────────────┼────────────────────────┼───────────────┤\n",
       "│ bidirectional_1 (<span style=\"color: #0087ff; text-decoration-color: #0087ff\">Bidirectional</span>) │ (<span style=\"color: #00d7ff; text-decoration-color: #00d7ff\">None</span>, <span style=\"color: #00af00; text-decoration-color: #00af00\">128</span>)            │       <span style=\"color: #00af00; text-decoration-color: #00af00\">164,352</span> │\n",
       "├─────────────────────────────────┼────────────────────────┼───────────────┤\n",
       "│ dropout_1 (<span style=\"color: #0087ff; text-decoration-color: #0087ff\">Dropout</span>)             │ (<span style=\"color: #00d7ff; text-decoration-color: #00d7ff\">None</span>, <span style=\"color: #00af00; text-decoration-color: #00af00\">128</span>)            │             <span style=\"color: #00af00; text-decoration-color: #00af00\">0</span> │\n",
       "├─────────────────────────────────┼────────────────────────┼───────────────┤\n",
       "│ dense (<span style=\"color: #0087ff; text-decoration-color: #0087ff\">Dense</span>)                   │ (<span style=\"color: #00d7ff; text-decoration-color: #00d7ff\">None</span>, <span style=\"color: #00af00; text-decoration-color: #00af00\">64</span>)             │         <span style=\"color: #00af00; text-decoration-color: #00af00\">8,256</span> │\n",
       "├─────────────────────────────────┼────────────────────────┼───────────────┤\n",
       "│ dense_1 (<span style=\"color: #0087ff; text-decoration-color: #0087ff\">Dense</span>)                 │ (<span style=\"color: #00d7ff; text-decoration-color: #00d7ff\">None</span>, <span style=\"color: #00af00; text-decoration-color: #00af00\">1</span>)              │            <span style=\"color: #00af00; text-decoration-color: #00af00\">65</span> │\n",
       "└─────────────────────────────────┴────────────────────────┴───────────────┘\n",
       "</pre>\n"
      ],
      "text/plain": [
       "┏━━━━━━━━━━━━━━━━━━━━━━━━━━━━━━━━━┳━━━━━━━━━━━━━━━━━━━━━━━━┳━━━━━━━━━━━━━━━┓\n",
       "┃\u001b[1m \u001b[0m\u001b[1mLayer (type)                   \u001b[0m\u001b[1m \u001b[0m┃\u001b[1m \u001b[0m\u001b[1mOutput Shape          \u001b[0m\u001b[1m \u001b[0m┃\u001b[1m \u001b[0m\u001b[1m      Param #\u001b[0m\u001b[1m \u001b[0m┃\n",
       "┡━━━━━━━━━━━━━━━━━━━━━━━━━━━━━━━━━╇━━━━━━━━━━━━━━━━━━━━━━━━╇━━━━━━━━━━━━━━━┩\n",
       "│ embedding (\u001b[38;5;33mEmbedding\u001b[0m)           │ (\u001b[38;5;45mNone\u001b[0m, \u001b[38;5;34m100\u001b[0m, \u001b[38;5;34m128\u001b[0m)       │     \u001b[38;5;34m2,560,000\u001b[0m │\n",
       "├─────────────────────────────────┼────────────────────────┼───────────────┤\n",
       "│ bidirectional (\u001b[38;5;33mBidirectional\u001b[0m)   │ (\u001b[38;5;45mNone\u001b[0m, \u001b[38;5;34m100\u001b[0m, \u001b[38;5;34m256\u001b[0m)       │       \u001b[38;5;34m263,168\u001b[0m │\n",
       "├─────────────────────────────────┼────────────────────────┼───────────────┤\n",
       "│ dropout (\u001b[38;5;33mDropout\u001b[0m)               │ (\u001b[38;5;45mNone\u001b[0m, \u001b[38;5;34m100\u001b[0m, \u001b[38;5;34m256\u001b[0m)       │             \u001b[38;5;34m0\u001b[0m │\n",
       "├─────────────────────────────────┼────────────────────────┼───────────────┤\n",
       "│ bidirectional_1 (\u001b[38;5;33mBidirectional\u001b[0m) │ (\u001b[38;5;45mNone\u001b[0m, \u001b[38;5;34m128\u001b[0m)            │       \u001b[38;5;34m164,352\u001b[0m │\n",
       "├─────────────────────────────────┼────────────────────────┼───────────────┤\n",
       "│ dropout_1 (\u001b[38;5;33mDropout\u001b[0m)             │ (\u001b[38;5;45mNone\u001b[0m, \u001b[38;5;34m128\u001b[0m)            │             \u001b[38;5;34m0\u001b[0m │\n",
       "├─────────────────────────────────┼────────────────────────┼───────────────┤\n",
       "│ dense (\u001b[38;5;33mDense\u001b[0m)                   │ (\u001b[38;5;45mNone\u001b[0m, \u001b[38;5;34m64\u001b[0m)             │         \u001b[38;5;34m8,256\u001b[0m │\n",
       "├─────────────────────────────────┼────────────────────────┼───────────────┤\n",
       "│ dense_1 (\u001b[38;5;33mDense\u001b[0m)                 │ (\u001b[38;5;45mNone\u001b[0m, \u001b[38;5;34m1\u001b[0m)              │            \u001b[38;5;34m65\u001b[0m │\n",
       "└─────────────────────────────────┴────────────────────────┴───────────────┘\n"
      ]
     },
     "metadata": {},
     "output_type": "display_data"
    },
    {
     "data": {
      "text/html": [
       "<pre style=\"white-space:pre;overflow-x:auto;line-height:normal;font-family:Menlo,'DejaVu Sans Mono',consolas,'Courier New',monospace\"><span style=\"font-weight: bold\"> Total params: </span><span style=\"color: #00af00; text-decoration-color: #00af00\">2,995,841</span> (11.43 MB)\n",
       "</pre>\n"
      ],
      "text/plain": [
       "\u001b[1m Total params: \u001b[0m\u001b[38;5;34m2,995,841\u001b[0m (11.43 MB)\n"
      ]
     },
     "metadata": {},
     "output_type": "display_data"
    },
    {
     "data": {
      "text/html": [
       "<pre style=\"white-space:pre;overflow-x:auto;line-height:normal;font-family:Menlo,'DejaVu Sans Mono',consolas,'Courier New',monospace\"><span style=\"font-weight: bold\"> Trainable params: </span><span style=\"color: #00af00; text-decoration-color: #00af00\">2,995,841</span> (11.43 MB)\n",
       "</pre>\n"
      ],
      "text/plain": [
       "\u001b[1m Trainable params: \u001b[0m\u001b[38;5;34m2,995,841\u001b[0m (11.43 MB)\n"
      ]
     },
     "metadata": {},
     "output_type": "display_data"
    },
    {
     "data": {
      "text/html": [
       "<pre style=\"white-space:pre;overflow-x:auto;line-height:normal;font-family:Menlo,'DejaVu Sans Mono',consolas,'Courier New',monospace\"><span style=\"font-weight: bold\"> Non-trainable params: </span><span style=\"color: #00af00; text-decoration-color: #00af00\">0</span> (0.00 B)\n",
       "</pre>\n"
      ],
      "text/plain": [
       "\u001b[1m Non-trainable params: \u001b[0m\u001b[38;5;34m0\u001b[0m (0.00 B)\n"
      ]
     },
     "metadata": {},
     "output_type": "display_data"
    }
   ],
   "source": [
    "# Define the Model1\n",
    "model1 = Sequential([\n",
    "    Embedding(input_dim=vocab_size, output_dim=embedding_dim, input_length=max_length),\n",
    "    Bidirectional(LSTM(128, return_sequences=True)),\n",
    "    Dropout(dropout_rate),\n",
    "    Bidirectional(LSTM(64)),\n",
    "    Dropout(dropout_rate),\n",
    "    Dense(64, activation='relu'),\n",
    "    Dense(1, activation='sigmoid')  # Binary classification\n",
    "])\n",
    "\n",
    "# Build the Model1\n",
    "model1.build(input_shape=(None, max_length))  # None for batch size, max_length for sequence length\n",
    "\n",
    "# Print the Model1 summary\n",
    "model1.summary()\n",
    "\n",
    "# Apply the loss function, the optimizer, and the metrics to Model1\n",
    "model1.compile(loss='binary_crossentropy', optimizer='adam', metrics=['accuracy'])"
   ]
  },
  {
   "cell_type": "code",
   "execution_count": 16,
   "id": "c45c127a",
   "metadata": {
    "execution": {
     "iopub.execute_input": "2024-12-08T03:09:39.811739Z",
     "iopub.status.busy": "2024-12-08T03:09:39.810397Z",
     "iopub.status.idle": "2024-12-08T03:15:58.826139Z",
     "shell.execute_reply": "2024-12-08T03:15:58.825068Z"
    },
    "papermill": {
     "duration": 379.029255,
     "end_time": "2024-12-08T03:15:58.828525",
     "exception": false,
     "start_time": "2024-12-08T03:09:39.799270",
     "status": "completed"
    },
    "tags": []
   },
   "outputs": [
    {
     "name": "stdout",
     "output_type": "stream",
     "text": [
      "Epoch 1/10\n",
      "\u001b[1m96/96\u001b[0m \u001b[32m━━━━━━━━━━━━━━━━━━━━\u001b[0m\u001b[37m\u001b[0m \u001b[1m46s\u001b[0m 411ms/step - accuracy: 0.6480 - loss: 0.6141 - val_accuracy: 0.7853 - val_loss: 0.4602\n",
      "Epoch 2/10\n",
      "\u001b[1m96/96\u001b[0m \u001b[32m━━━━━━━━━━━━━━━━━━━━\u001b[0m\u001b[37m\u001b[0m \u001b[1m36s\u001b[0m 377ms/step - accuracy: 0.8866 - loss: 0.2929 - val_accuracy: 0.7768 - val_loss: 0.5109\n",
      "Epoch 3/10\n",
      "\u001b[1m96/96\u001b[0m \u001b[32m━━━━━━━━━━━━━━━━━━━━\u001b[0m\u001b[37m\u001b[0m \u001b[1m36s\u001b[0m 378ms/step - accuracy: 0.9294 - loss: 0.2059 - val_accuracy: 0.7682 - val_loss: 0.5863\n",
      "Epoch 4/10\n",
      "\u001b[1m96/96\u001b[0m \u001b[32m━━━━━━━━━━━━━━━━━━━━\u001b[0m\u001b[37m\u001b[0m \u001b[1m36s\u001b[0m 378ms/step - accuracy: 0.9621 - loss: 0.1076 - val_accuracy: 0.7367 - val_loss: 0.7194\n",
      "Epoch 5/10\n",
      "\u001b[1m96/96\u001b[0m \u001b[32m━━━━━━━━━━━━━━━━━━━━\u001b[0m\u001b[37m\u001b[0m \u001b[1m39s\u001b[0m 402ms/step - accuracy: 0.9819 - loss: 0.0559 - val_accuracy: 0.7163 - val_loss: 0.9087\n",
      "Epoch 6/10\n",
      "\u001b[1m96/96\u001b[0m \u001b[32m━━━━━━━━━━━━━━━━━━━━\u001b[0m\u001b[37m\u001b[0m \u001b[1m36s\u001b[0m 376ms/step - accuracy: 0.9924 - loss: 0.0287 - val_accuracy: 0.7170 - val_loss: 0.8659\n",
      "Epoch 7/10\n",
      "\u001b[1m96/96\u001b[0m \u001b[32m━━━━━━━━━━━━━━━━━━━━\u001b[0m\u001b[37m\u001b[0m \u001b[1m41s\u001b[0m 377ms/step - accuracy: 0.9897 - loss: 0.0271 - val_accuracy: 0.7183 - val_loss: 1.1316\n",
      "Epoch 8/10\n",
      "\u001b[1m96/96\u001b[0m \u001b[32m━━━━━━━━━━━━━━━━━━━━\u001b[0m\u001b[37m\u001b[0m \u001b[1m36s\u001b[0m 378ms/step - accuracy: 0.9942 - loss: 0.0182 - val_accuracy: 0.7170 - val_loss: 1.1554\n",
      "Epoch 9/10\n",
      "\u001b[1m96/96\u001b[0m \u001b[32m━━━━━━━━━━━━━━━━━━━━\u001b[0m\u001b[37m\u001b[0m \u001b[1m36s\u001b[0m 374ms/step - accuracy: 0.9959 - loss: 0.0138 - val_accuracy: 0.6980 - val_loss: 1.8845\n",
      "Epoch 10/10\n",
      "\u001b[1m96/96\u001b[0m \u001b[32m━━━━━━━━━━━━━━━━━━━━\u001b[0m\u001b[37m\u001b[0m \u001b[1m36s\u001b[0m 376ms/step - accuracy: 0.9927 - loss: 0.0187 - val_accuracy: 0.7026 - val_loss: 1.5459\n"
     ]
    }
   ],
   "source": [
    "# Fit the Model1\n",
    "history = model1.fit(X_train_padded, y_train, epochs=10, batch_size=64, validation_split=0.2)\n"
   ]
  },
  {
   "cell_type": "code",
   "execution_count": 17,
   "id": "193b4500",
   "metadata": {
    "execution": {
     "iopub.execute_input": "2024-12-08T03:15:58.956904Z",
     "iopub.status.busy": "2024-12-08T03:15:58.956142Z",
     "iopub.status.idle": "2024-12-08T03:15:59.419317Z",
     "shell.execute_reply": "2024-12-08T03:15:59.418269Z"
    },
    "papermill": {
     "duration": 0.52865,
     "end_time": "2024-12-08T03:15:59.421522",
     "exception": false,
     "start_time": "2024-12-08T03:15:58.892872",
     "status": "completed"
    },
    "tags": []
   },
   "outputs": [
    {
     "data": {
      "image/png": "[encoded data removed]",
      "text/plain": [
       "<Figure size 640x480 with 1 Axes>"
      ]
     },
     "metadata": {},
     "output_type": "display_data"
    },
    {
     "data": {
      "image/png": "[encoded data removed]",
      "text/plain": [
       "<Figure size 640x480 with 1 Axes>"
      ]
     },
     "metadata": {},
     "output_type": "display_data"
    }
   ],
   "source": [
    "# Plot accuracy for the Model1\n",
    "plt.plot(history.history['accuracy'], label='train_accuracy')\n",
    "plt.plot(history.history['val_accuracy'], label='val_accuracy')\n",
    "plt.xlabel('Epochs')\n",
    "plt.ylabel('Accuracy')\n",
    "plt.legend()\n",
    "plt.show()\n",
    "\n",
    "# Plot loss for the Model1\n",
    "plt.plot(history.history['loss'], label='train_loss')\n",
    "plt.plot(history.history['val_loss'], label='val_loss')\n",
    "plt.xlabel('Epochs')\n",
    "plt.ylabel('Loss')\n",
    "plt.legend()\n",
    "plt.show()"
   ]
  },
  {
   "cell_type": "markdown",
   "id": "46248b72",
   "metadata": {
    "papermill": {
     "duration": 0.062661,
     "end_time": "2024-12-08T03:15:59.602951",
     "exception": false,
     "start_time": "2024-12-08T03:15:59.540290",
     "status": "completed"
    },
    "tags": []
   },
   "source": [
    "# Second RNN Model Utilizing LSTM\n",
    "The model architecture for the Second RNN Model Utilizing LSTM is identical to the First RNN Model Utilizing LSTM with the following hyperparameter adjustments: \n",
    "\n",
    "- The dropout rate present in both layers was increased from 0.3 to 0.5\n",
    "- The vocabulary size was reduced from 20000 to 10000\n",
    "- An L2 Regularization was added (set to 0.02)\n",
    "\n",
    "Each of these steps were in an effort to try and reduce overfitting. "
   ]
  },
  {
   "cell_type": "code",
   "execution_count": 18,
   "id": "2cb17655",
   "metadata": {
    "execution": {
     "iopub.execute_input": "2024-12-08T03:15:59.732151Z",
     "iopub.status.busy": "2024-12-08T03:15:59.731266Z",
     "iopub.status.idle": "2024-12-08T03:16:00.252687Z",
     "shell.execute_reply": "2024-12-08T03:16:00.251485Z"
    },
    "papermill": {
     "duration": 0.588559,
     "end_time": "2024-12-08T03:16:00.255032",
     "exception": false,
     "start_time": "2024-12-08T03:15:59.666473",
     "status": "completed"
    },
    "tags": []
   },
   "outputs": [
    {
     "name": "stdout",
     "output_type": "stream",
     "text": [
      "X_train_padded shape: (7613, 100)\n",
      "X_test_padded shape: (3263, 100)\n",
      "y_train shape: (7613,)\n"
     ]
    },
    {
     "data": {
      "text/html": [
       "<pre style=\"white-space:pre;overflow-x:auto;line-height:normal;font-family:Menlo,'DejaVu Sans Mono',consolas,'Courier New',monospace\"><span style=\"font-weight: bold\">Model: \"sequential_1\"</span>\n",
       "</pre>\n"
      ],
      "text/plain": [
       "\u001b[1mModel: \"sequential_1\"\u001b[0m\n"
      ]
     },
     "metadata": {},
     "output_type": "display_data"
    },
    {
     "data": {
      "text/html": [
       "<pre style=\"white-space:pre;overflow-x:auto;line-height:normal;font-family:Menlo,'DejaVu Sans Mono',consolas,'Courier New',monospace\">┏━━━━━━━━━━━━━━━━━━━━━━━━━━━━━━━━━┳━━━━━━━━━━━━━━━━━━━━━━━━┳━━━━━━━━━━━━━━━┓\n",
       "┃<span style=\"font-weight: bold\"> Layer (type)                    </span>┃<span style=\"font-weight: bold\"> Output Shape           </span>┃<span style=\"font-weight: bold\">       Param # </span>┃\n",
       "┡━━━━━━━━━━━━━━━━━━━━━━━━━━━━━━━━━╇━━━━━━━━━━━━━━━━━━━━━━━━╇━━━━━━━━━━━━━━━┩\n",
       "│ embedding_1 (<span style=\"color: #0087ff; text-decoration-color: #0087ff\">Embedding</span>)         │ (<span style=\"color: #00d7ff; text-decoration-color: #00d7ff\">None</span>, <span style=\"color: #00af00; text-decoration-color: #00af00\">100</span>, <span style=\"color: #00af00; text-decoration-color: #00af00\">128</span>)       │     <span style=\"color: #00af00; text-decoration-color: #00af00\">1,280,000</span> │\n",
       "├─────────────────────────────────┼────────────────────────┼───────────────┤\n",
       "│ bidirectional_2 (<span style=\"color: #0087ff; text-decoration-color: #0087ff\">Bidirectional</span>) │ (<span style=\"color: #00d7ff; text-decoration-color: #00d7ff\">None</span>, <span style=\"color: #00af00; text-decoration-color: #00af00\">100</span>, <span style=\"color: #00af00; text-decoration-color: #00af00\">256</span>)       │       <span style=\"color: #00af00; text-decoration-color: #00af00\">263,168</span> │\n",
       "├─────────────────────────────────┼────────────────────────┼───────────────┤\n",
       "│ dropout_2 (<span style=\"color: #0087ff; text-decoration-color: #0087ff\">Dropout</span>)             │ (<span style=\"color: #00d7ff; text-decoration-color: #00d7ff\">None</span>, <span style=\"color: #00af00; text-decoration-color: #00af00\">100</span>, <span style=\"color: #00af00; text-decoration-color: #00af00\">256</span>)       │             <span style=\"color: #00af00; text-decoration-color: #00af00\">0</span> │\n",
       "├─────────────────────────────────┼────────────────────────┼───────────────┤\n",
       "│ bidirectional_3 (<span style=\"color: #0087ff; text-decoration-color: #0087ff\">Bidirectional</span>) │ (<span style=\"color: #00d7ff; text-decoration-color: #00d7ff\">None</span>, <span style=\"color: #00af00; text-decoration-color: #00af00\">128</span>)            │       <span style=\"color: #00af00; text-decoration-color: #00af00\">164,352</span> │\n",
       "├─────────────────────────────────┼────────────────────────┼───────────────┤\n",
       "│ dropout_3 (<span style=\"color: #0087ff; text-decoration-color: #0087ff\">Dropout</span>)             │ (<span style=\"color: #00d7ff; text-decoration-color: #00d7ff\">None</span>, <span style=\"color: #00af00; text-decoration-color: #00af00\">128</span>)            │             <span style=\"color: #00af00; text-decoration-color: #00af00\">0</span> │\n",
       "├─────────────────────────────────┼────────────────────────┼───────────────┤\n",
       "│ dense_2 (<span style=\"color: #0087ff; text-decoration-color: #0087ff\">Dense</span>)                 │ (<span style=\"color: #00d7ff; text-decoration-color: #00d7ff\">None</span>, <span style=\"color: #00af00; text-decoration-color: #00af00\">64</span>)             │         <span style=\"color: #00af00; text-decoration-color: #00af00\">8,256</span> │\n",
       "├─────────────────────────────────┼────────────────────────┼───────────────┤\n",
       "│ dense_3 (<span style=\"color: #0087ff; text-decoration-color: #0087ff\">Dense</span>)                 │ (<span style=\"color: #00d7ff; text-decoration-color: #00d7ff\">None</span>, <span style=\"color: #00af00; text-decoration-color: #00af00\">1</span>)              │            <span style=\"color: #00af00; text-decoration-color: #00af00\">65</span> │\n",
       "└─────────────────────────────────┴────────────────────────┴───────────────┘\n",
       "</pre>\n"
      ],
      "text/plain": [
       "┏━━━━━━━━━━━━━━━━━━━━━━━━━━━━━━━━━┳━━━━━━━━━━━━━━━━━━━━━━━━┳━━━━━━━━━━━━━━━┓\n",
       "┃\u001b[1m \u001b[0m\u001b[1mLayer (type)                   \u001b[0m\u001b[1m \u001b[0m┃\u001b[1m \u001b[0m\u001b[1mOutput Shape          \u001b[0m\u001b[1m \u001b[0m┃\u001b[1m \u001b[0m\u001b[1m      Param #\u001b[0m\u001b[1m \u001b[0m┃\n",
       "┡━━━━━━━━━━━━━━━━━━━━━━━━━━━━━━━━━╇━━━━━━━━━━━━━━━━━━━━━━━━╇━━━━━━━━━━━━━━━┩\n",
       "│ embedding_1 (\u001b[38;5;33mEmbedding\u001b[0m)         │ (\u001b[38;5;45mNone\u001b[0m, \u001b[38;5;34m100\u001b[0m, \u001b[38;5;34m128\u001b[0m)       │     \u001b[38;5;34m1,280,000\u001b[0m │\n",
       "├─────────────────────────────────┼────────────────────────┼───────────────┤\n",
       "│ bidirectional_2 (\u001b[38;5;33mBidirectional\u001b[0m) │ (\u001b[38;5;45mNone\u001b[0m, \u001b[38;5;34m100\u001b[0m, \u001b[38;5;34m256\u001b[0m)       │       \u001b[38;5;34m263,168\u001b[0m │\n",
       "├─────────────────────────────────┼────────────────────────┼───────────────┤\n",
       "│ dropout_2 (\u001b[38;5;33mDropout\u001b[0m)             │ (\u001b[38;5;45mNone\u001b[0m, \u001b[38;5;34m100\u001b[0m, \u001b[38;5;34m256\u001b[0m)       │             \u001b[38;5;34m0\u001b[0m │\n",
       "├─────────────────────────────────┼────────────────────────┼───────────────┤\n",
       "│ bidirectional_3 (\u001b[38;5;33mBidirectional\u001b[0m) │ (\u001b[38;5;45mNone\u001b[0m, \u001b[38;5;34m128\u001b[0m)            │       \u001b[38;5;34m164,352\u001b[0m │\n",
       "├─────────────────────────────────┼────────────────────────┼───────────────┤\n",
       "│ dropout_3 (\u001b[38;5;33mDropout\u001b[0m)             │ (\u001b[38;5;45mNone\u001b[0m, \u001b[38;5;34m128\u001b[0m)            │             \u001b[38;5;34m0\u001b[0m │\n",
       "├─────────────────────────────────┼────────────────────────┼───────────────┤\n",
       "│ dense_2 (\u001b[38;5;33mDense\u001b[0m)                 │ (\u001b[38;5;45mNone\u001b[0m, \u001b[38;5;34m64\u001b[0m)             │         \u001b[38;5;34m8,256\u001b[0m │\n",
       "├─────────────────────────────────┼────────────────────────┼───────────────┤\n",
       "│ dense_3 (\u001b[38;5;33mDense\u001b[0m)                 │ (\u001b[38;5;45mNone\u001b[0m, \u001b[38;5;34m1\u001b[0m)              │            \u001b[38;5;34m65\u001b[0m │\n",
       "└─────────────────────────────────┴────────────────────────┴───────────────┘\n"
      ]
     },
     "metadata": {},
     "output_type": "display_data"
    },
    {
     "data": {
      "text/html": [
       "<pre style=\"white-space:pre;overflow-x:auto;line-height:normal;font-family:Menlo,'DejaVu Sans Mono',consolas,'Courier New',monospace\"><span style=\"font-weight: bold\"> Total params: </span><span style=\"color: #00af00; text-decoration-color: #00af00\">1,715,841</span> (6.55 MB)\n",
       "</pre>\n"
      ],
      "text/plain": [
       "\u001b[1m Total params: \u001b[0m\u001b[38;5;34m1,715,841\u001b[0m (6.55 MB)\n"
      ]
     },
     "metadata": {},
     "output_type": "display_data"
    },
    {
     "data": {
      "text/html": [
       "<pre style=\"white-space:pre;overflow-x:auto;line-height:normal;font-family:Menlo,'DejaVu Sans Mono',consolas,'Courier New',monospace\"><span style=\"font-weight: bold\"> Trainable params: </span><span style=\"color: #00af00; text-decoration-color: #00af00\">1,715,841</span> (6.55 MB)\n",
       "</pre>\n"
      ],
      "text/plain": [
       "\u001b[1m Trainable params: \u001b[0m\u001b[38;5;34m1,715,841\u001b[0m (6.55 MB)\n"
      ]
     },
     "metadata": {},
     "output_type": "display_data"
    },
    {
     "data": {
      "text/html": [
       "<pre style=\"white-space:pre;overflow-x:auto;line-height:normal;font-family:Menlo,'DejaVu Sans Mono',consolas,'Courier New',monospace\"><span style=\"font-weight: bold\"> Non-trainable params: </span><span style=\"color: #00af00; text-decoration-color: #00af00\">0</span> (0.00 B)\n",
       "</pre>\n"
      ],
      "text/plain": [
       "\u001b[1m Non-trainable params: \u001b[0m\u001b[38;5;34m0\u001b[0m (0.00 B)\n"
      ]
     },
     "metadata": {},
     "output_type": "display_data"
    }
   ],
   "source": [
    "# Input information for the tokenizer and padding\n",
    "max_length2 = 100\n",
    "embedding_dim2 = 128\n",
    "vocab_size2 = 10000\n",
    "dropout_rate2 = 0.5\n",
    "\n",
    "# Create tokenizer\n",
    "tokenizer2 = Tokenizer(num_words=vocab_size2, oov_token=\"<OOV>\")\n",
    "tokenizer2.fit_on_texts(train_df['text'])\n",
    "\n",
    "# Apply the tokenizer\n",
    "X_train_seq2 = tokenizer2.texts_to_sequences(train_df['text'])\n",
    "X_test_seq2 = tokenizer2.texts_to_sequences(test_df['text'])\n",
    "\n",
    "# Apply the padding\n",
    "X_train_padded2 = pad_sequences(X_train_seq2, maxlen=max_length2, padding='post', truncating='post')\n",
    "X_test_padded2 = pad_sequences(X_test_seq2, maxlen=max_length2, padding='post', truncating='post')\n",
    "\n",
    "# Check the shapes\n",
    "print(\"X_train_padded shape:\", X_train_padded2.shape)\n",
    "print(\"X_test_padded shape:\", X_test_padded2.shape)\n",
    "print(\"y_train shape:\", y_train.shape)\n",
    "\n",
    "# Define the Model2\n",
    "model2 = Sequential([\n",
    "    Embedding(input_dim=vocab_size2, output_dim=embedding_dim2, input_length=max_length2),\n",
    "    Bidirectional(LSTM(128, return_sequences=True)),\n",
    "    Dropout(dropout_rate2),\n",
    "    Bidirectional(LSTM(64)),\n",
    "    Dropout(dropout_rate2),\n",
    "    Dense(64, activation='relu', kernel_regularizer=l2(0.02)),\n",
    "    Dense(1, activation='sigmoid')  # Binary classification\n",
    "])\n",
    "\n",
    "# Build the Model2\n",
    "model2.build(input_shape=(None, max_length))  # None for batch size, max_length for sequence length\n",
    "\n",
    "# Print the Model2 summary\n",
    "model2.summary()\n",
    "\n",
    "# Apply the loss function, the optimizer, and the metrics to the Model2\n",
    "model2.compile(loss='binary_crossentropy', optimizer='adam', metrics=['accuracy'])"
   ]
  },
  {
   "cell_type": "code",
   "execution_count": 19,
   "id": "5029c8e0",
   "metadata": {
    "execution": {
     "iopub.execute_input": "2024-12-08T03:16:00.387212Z",
     "iopub.status.busy": "2024-12-08T03:16:00.386838Z",
     "iopub.status.idle": "2024-12-08T03:22:09.849280Z",
     "shell.execute_reply": "2024-12-08T03:22:09.847985Z"
    },
    "papermill": {
     "duration": 369.531756,
     "end_time": "2024-12-08T03:22:09.851631",
     "exception": false,
     "start_time": "2024-12-08T03:16:00.319875",
     "status": "completed"
    },
    "tags": []
   },
   "outputs": [
    {
     "name": "stdout",
     "output_type": "stream",
     "text": [
      "Epoch 1/10\n",
      "\u001b[1m96/96\u001b[0m \u001b[32m━━━━━━━━━━━━━━━━━━━━\u001b[0m\u001b[37m\u001b[0m \u001b[1m45s\u001b[0m 403ms/step - accuracy: 0.6208 - loss: 1.8317 - val_accuracy: 0.7735 - val_loss: 0.7968\n",
      "Epoch 2/10\n",
      "\u001b[1m96/96\u001b[0m \u001b[32m━━━━━━━━━━━━━━━━━━━━\u001b[0m\u001b[37m\u001b[0m \u001b[1m35s\u001b[0m 369ms/step - accuracy: 0.8621 - loss: 0.5685 - val_accuracy: 0.7991 - val_loss: 0.5289\n",
      "Epoch 3/10\n",
      "\u001b[1m96/96\u001b[0m \u001b[32m━━━━━━━━━━━━━━━━━━━━\u001b[0m\u001b[37m\u001b[0m \u001b[1m36s\u001b[0m 372ms/step - accuracy: 0.9191 - loss: 0.2847 - val_accuracy: 0.7741 - val_loss: 0.5732\n",
      "Epoch 4/10\n",
      "\u001b[1m96/96\u001b[0m \u001b[32m━━━━━━━━━━━━━━━━━━━━\u001b[0m\u001b[37m\u001b[0m \u001b[1m36s\u001b[0m 370ms/step - accuracy: 0.9386 - loss: 0.2048 - val_accuracy: 0.7466 - val_loss: 0.7006\n",
      "Epoch 5/10\n",
      "\u001b[1m96/96\u001b[0m \u001b[32m━━━━━━━━━━━━━━━━━━━━\u001b[0m\u001b[37m\u001b[0m \u001b[1m41s\u001b[0m 367ms/step - accuracy: 0.9541 - loss: 0.1642 - val_accuracy: 0.7643 - val_loss: 0.7186\n",
      "Epoch 6/10\n",
      "\u001b[1m96/96\u001b[0m \u001b[32m━━━━━━━━━━━━━━━━━━━━\u001b[0m\u001b[37m\u001b[0m \u001b[1m35s\u001b[0m 368ms/step - accuracy: 0.9678 - loss: 0.1234 - val_accuracy: 0.7269 - val_loss: 0.7430\n",
      "Epoch 7/10\n",
      "\u001b[1m96/96\u001b[0m \u001b[32m━━━━━━━━━━━━━━━━━━━━\u001b[0m\u001b[37m\u001b[0m \u001b[1m36s\u001b[0m 371ms/step - accuracy: 0.9655 - loss: 0.1169 - val_accuracy: 0.7518 - val_loss: 0.9438\n",
      "Epoch 8/10\n",
      "\u001b[1m96/96\u001b[0m \u001b[32m━━━━━━━━━━━━━━━━━━━━\u001b[0m\u001b[37m\u001b[0m \u001b[1m35s\u001b[0m 368ms/step - accuracy: 0.9732 - loss: 0.0830 - val_accuracy: 0.7315 - val_loss: 1.0021\n",
      "Epoch 9/10\n",
      "\u001b[1m96/96\u001b[0m \u001b[32m━━━━━━━━━━━━━━━━━━━━\u001b[0m\u001b[37m\u001b[0m \u001b[1m35s\u001b[0m 367ms/step - accuracy: 0.9763 - loss: 0.0742 - val_accuracy: 0.7354 - val_loss: 1.0817\n",
      "Epoch 10/10\n",
      "\u001b[1m96/96\u001b[0m \u001b[32m━━━━━━━━━━━━━━━━━━━━\u001b[0m\u001b[37m\u001b[0m \u001b[1m35s\u001b[0m 367ms/step - accuracy: 0.9758 - loss: 0.0671 - val_accuracy: 0.7269 - val_loss: 1.0620\n"
     ]
    }
   ],
   "source": [
    "# Fit the Model2\n",
    "history2 = model2.fit(X_train_padded2, y_train, epochs=10, batch_size=64, validation_split=0.2)\n"
   ]
  },
  {
   "cell_type": "code",
   "execution_count": 20,
   "id": "519300d9",
   "metadata": {
    "execution": {
     "iopub.execute_input": "2024-12-08T03:22:10.091196Z",
     "iopub.status.busy": "2024-12-08T03:22:10.090133Z",
     "iopub.status.idle": "2024-12-08T03:22:10.539165Z",
     "shell.execute_reply": "2024-12-08T03:22:10.537867Z"
    },
    "papermill": {
     "duration": 0.571232,
     "end_time": "2024-12-08T03:22:10.541570",
     "exception": false,
     "start_time": "2024-12-08T03:22:09.970338",
     "status": "completed"
    },
    "tags": []
   },
   "outputs": [
    {
     "data": {
      "image/png": "[encoded data removed]",
      "text/plain": [
       "<Figure size 640x480 with 1 Axes>"
      ]
     },
     "metadata": {},
     "output_type": "display_data"
    },
    {
     "data": {
      "image/png": "[encoded data removed]",
      "text/plain": [
       "<Figure size 640x480 with 1 Axes>"
      ]
     },
     "metadata": {},
     "output_type": "display_data"
    }
   ],
   "source": [
    "# Plot accuracy for Model2\n",
    "plt.plot(history2.history['accuracy'], label='train_accuracy')\n",
    "plt.plot(history2.history['val_accuracy'], label='val_accuracy')\n",
    "plt.xlabel('Epochs')\n",
    "plt.ylabel('Accuracy')\n",
    "plt.legend()\n",
    "plt.show()\n",
    "\n",
    "# Plot loss for Model2\n",
    "plt.plot(history2.history['loss'], label='train_loss')\n",
    "plt.plot(history2.history['val_loss'], label='val_loss')\n",
    "plt.xlabel('Epochs')\n",
    "plt.ylabel('Loss')\n",
    "plt.legend()\n",
    "plt.show()"
   ]
  },
  {
   "cell_type": "markdown",
   "id": "a9af4706",
   "metadata": {
    "papermill": {
     "duration": 0.120356,
     "end_time": "2024-12-08T03:22:10.781165",
     "exception": false,
     "start_time": "2024-12-08T03:22:10.660809",
     "status": "completed"
    },
    "tags": []
   },
   "source": [
    "# Third RNN Model Utilizing LSTM\n",
    "The model architecture for the Third RNN Model Utilizing LSTM is identical to the Second RNN Model Utilizing LSTM with the following hyperparameter adjustments: \n",
    "\n",
    "- The learning rate was reduced from the default value (0.001) to 0.0001.\n",
    "- L2 Regularization increased from 0.02 to 0.03. "
   ]
  },
  {
   "cell_type": "code",
   "execution_count": 21,
   "id": "886eed59",
   "metadata": {
    "execution": {
     "iopub.execute_input": "2024-12-08T03:22:11.020588Z",
     "iopub.status.busy": "2024-12-08T03:22:11.020134Z",
     "iopub.status.idle": "2024-12-08T03:22:11.529681Z",
     "shell.execute_reply": "2024-12-08T03:22:11.528667Z"
    },
    "papermill": {
     "duration": 0.632305,
     "end_time": "2024-12-08T03:22:11.531776",
     "exception": false,
     "start_time": "2024-12-08T03:22:10.899471",
     "status": "completed"
    },
    "tags": []
   },
   "outputs": [
    {
     "name": "stdout",
     "output_type": "stream",
     "text": [
      "X_train_padded shape: (7613, 100)\n",
      "X_test_padded shape: (3263, 100)\n",
      "y_train shape: (7613,)\n"
     ]
    },
    {
     "data": {
      "text/html": [
       "<pre style=\"white-space:pre;overflow-x:auto;line-height:normal;font-family:Menlo,'DejaVu Sans Mono',consolas,'Courier New',monospace\"><span style=\"font-weight: bold\">Model: \"sequential_2\"</span>\n",
       "</pre>\n"
      ],
      "text/plain": [
       "\u001b[1mModel: \"sequential_2\"\u001b[0m\n"
      ]
     },
     "metadata": {},
     "output_type": "display_data"
    },
    {
     "data": {
      "text/html": [
       "<pre style=\"white-space:pre;overflow-x:auto;line-height:normal;font-family:Menlo,'DejaVu Sans Mono',consolas,'Courier New',monospace\">┏━━━━━━━━━━━━━━━━━━━━━━━━━━━━━━━━━┳━━━━━━━━━━━━━━━━━━━━━━━━┳━━━━━━━━━━━━━━━┓\n",
       "┃<span style=\"font-weight: bold\"> Layer (type)                    </span>┃<span style=\"font-weight: bold\"> Output Shape           </span>┃<span style=\"font-weight: bold\">       Param # </span>┃\n",
       "┡━━━━━━━━━━━━━━━━━━━━━━━━━━━━━━━━━╇━━━━━━━━━━━━━━━━━━━━━━━━╇━━━━━━━━━━━━━━━┩\n",
       "│ embedding_2 (<span style=\"color: #0087ff; text-decoration-color: #0087ff\">Embedding</span>)         │ (<span style=\"color: #00d7ff; text-decoration-color: #00d7ff\">None</span>, <span style=\"color: #00af00; text-decoration-color: #00af00\">100</span>, <span style=\"color: #00af00; text-decoration-color: #00af00\">128</span>)       │     <span style=\"color: #00af00; text-decoration-color: #00af00\">1,280,000</span> │\n",
       "├─────────────────────────────────┼────────────────────────┼───────────────┤\n",
       "│ bidirectional_4 (<span style=\"color: #0087ff; text-decoration-color: #0087ff\">Bidirectional</span>) │ (<span style=\"color: #00d7ff; text-decoration-color: #00d7ff\">None</span>, <span style=\"color: #00af00; text-decoration-color: #00af00\">100</span>, <span style=\"color: #00af00; text-decoration-color: #00af00\">256</span>)       │       <span style=\"color: #00af00; text-decoration-color: #00af00\">263,168</span> │\n",
       "├─────────────────────────────────┼────────────────────────┼───────────────┤\n",
       "│ dropout_4 (<span style=\"color: #0087ff; text-decoration-color: #0087ff\">Dropout</span>)             │ (<span style=\"color: #00d7ff; text-decoration-color: #00d7ff\">None</span>, <span style=\"color: #00af00; text-decoration-color: #00af00\">100</span>, <span style=\"color: #00af00; text-decoration-color: #00af00\">256</span>)       │             <span style=\"color: #00af00; text-decoration-color: #00af00\">0</span> │\n",
       "├─────────────────────────────────┼────────────────────────┼───────────────┤\n",
       "│ bidirectional_5 (<span style=\"color: #0087ff; text-decoration-color: #0087ff\">Bidirectional</span>) │ (<span style=\"color: #00d7ff; text-decoration-color: #00d7ff\">None</span>, <span style=\"color: #00af00; text-decoration-color: #00af00\">128</span>)            │       <span style=\"color: #00af00; text-decoration-color: #00af00\">164,352</span> │\n",
       "├─────────────────────────────────┼────────────────────────┼───────────────┤\n",
       "│ dropout_5 (<span style=\"color: #0087ff; text-decoration-color: #0087ff\">Dropout</span>)             │ (<span style=\"color: #00d7ff; text-decoration-color: #00d7ff\">None</span>, <span style=\"color: #00af00; text-decoration-color: #00af00\">128</span>)            │             <span style=\"color: #00af00; text-decoration-color: #00af00\">0</span> │\n",
       "├─────────────────────────────────┼────────────────────────┼───────────────┤\n",
       "│ dense_4 (<span style=\"color: #0087ff; text-decoration-color: #0087ff\">Dense</span>)                 │ (<span style=\"color: #00d7ff; text-decoration-color: #00d7ff\">None</span>, <span style=\"color: #00af00; text-decoration-color: #00af00\">64</span>)             │         <span style=\"color: #00af00; text-decoration-color: #00af00\">8,256</span> │\n",
       "├─────────────────────────────────┼────────────────────────┼───────────────┤\n",
       "│ dense_5 (<span style=\"color: #0087ff; text-decoration-color: #0087ff\">Dense</span>)                 │ (<span style=\"color: #00d7ff; text-decoration-color: #00d7ff\">None</span>, <span style=\"color: #00af00; text-decoration-color: #00af00\">1</span>)              │            <span style=\"color: #00af00; text-decoration-color: #00af00\">65</span> │\n",
       "└─────────────────────────────────┴────────────────────────┴───────────────┘\n",
       "</pre>\n"
      ],
      "text/plain": [
       "┏━━━━━━━━━━━━━━━━━━━━━━━━━━━━━━━━━┳━━━━━━━━━━━━━━━━━━━━━━━━┳━━━━━━━━━━━━━━━┓\n",
       "┃\u001b[1m \u001b[0m\u001b[1mLayer (type)                   \u001b[0m\u001b[1m \u001b[0m┃\u001b[1m \u001b[0m\u001b[1mOutput Shape          \u001b[0m\u001b[1m \u001b[0m┃\u001b[1m \u001b[0m\u001b[1m      Param #\u001b[0m\u001b[1m \u001b[0m┃\n",
       "┡━━━━━━━━━━━━━━━━━━━━━━━━━━━━━━━━━╇━━━━━━━━━━━━━━━━━━━━━━━━╇━━━━━━━━━━━━━━━┩\n",
       "│ embedding_2 (\u001b[38;5;33mEmbedding\u001b[0m)         │ (\u001b[38;5;45mNone\u001b[0m, \u001b[38;5;34m100\u001b[0m, \u001b[38;5;34m128\u001b[0m)       │     \u001b[38;5;34m1,280,000\u001b[0m │\n",
       "├─────────────────────────────────┼────────────────────────┼───────────────┤\n",
       "│ bidirectional_4 (\u001b[38;5;33mBidirectional\u001b[0m) │ (\u001b[38;5;45mNone\u001b[0m, \u001b[38;5;34m100\u001b[0m, \u001b[38;5;34m256\u001b[0m)       │       \u001b[38;5;34m263,168\u001b[0m │\n",
       "├─────────────────────────────────┼────────────────────────┼───────────────┤\n",
       "│ dropout_4 (\u001b[38;5;33mDropout\u001b[0m)             │ (\u001b[38;5;45mNone\u001b[0m, \u001b[38;5;34m100\u001b[0m, \u001b[38;5;34m256\u001b[0m)       │             \u001b[38;5;34m0\u001b[0m │\n",
       "├─────────────────────────────────┼────────────────────────┼───────────────┤\n",
       "│ bidirectional_5 (\u001b[38;5;33mBidirectional\u001b[0m) │ (\u001b[38;5;45mNone\u001b[0m, \u001b[38;5;34m128\u001b[0m)            │       \u001b[38;5;34m164,352\u001b[0m │\n",
       "├─────────────────────────────────┼────────────────────────┼───────────────┤\n",
       "│ dropout_5 (\u001b[38;5;33mDropout\u001b[0m)             │ (\u001b[38;5;45mNone\u001b[0m, \u001b[38;5;34m128\u001b[0m)            │             \u001b[38;5;34m0\u001b[0m │\n",
       "├─────────────────────────────────┼────────────────────────┼───────────────┤\n",
       "│ dense_4 (\u001b[38;5;33mDense\u001b[0m)                 │ (\u001b[38;5;45mNone\u001b[0m, \u001b[38;5;34m64\u001b[0m)             │         \u001b[38;5;34m8,256\u001b[0m │\n",
       "├─────────────────────────────────┼────────────────────────┼───────────────┤\n",
       "│ dense_5 (\u001b[38;5;33mDense\u001b[0m)                 │ (\u001b[38;5;45mNone\u001b[0m, \u001b[38;5;34m1\u001b[0m)              │            \u001b[38;5;34m65\u001b[0m │\n",
       "└─────────────────────────────────┴────────────────────────┴───────────────┘\n"
      ]
     },
     "metadata": {},
     "output_type": "display_data"
    },
    {
     "data": {
      "text/html": [
       "<pre style=\"white-space:pre;overflow-x:auto;line-height:normal;font-family:Menlo,'DejaVu Sans Mono',consolas,'Courier New',monospace\"><span style=\"font-weight: bold\"> Total params: </span><span style=\"color: #00af00; text-decoration-color: #00af00\">1,715,841</span> (6.55 MB)\n",
       "</pre>\n"
      ],
      "text/plain": [
       "\u001b[1m Total params: \u001b[0m\u001b[38;5;34m1,715,841\u001b[0m (6.55 MB)\n"
      ]
     },
     "metadata": {},
     "output_type": "display_data"
    },
    {
     "data": {
      "text/html": [
       "<pre style=\"white-space:pre;overflow-x:auto;line-height:normal;font-family:Menlo,'DejaVu Sans Mono',consolas,'Courier New',monospace\"><span style=\"font-weight: bold\"> Trainable params: </span><span style=\"color: #00af00; text-decoration-color: #00af00\">1,715,841</span> (6.55 MB)\n",
       "</pre>\n"
      ],
      "text/plain": [
       "\u001b[1m Trainable params: \u001b[0m\u001b[38;5;34m1,715,841\u001b[0m (6.55 MB)\n"
      ]
     },
     "metadata": {},
     "output_type": "display_data"
    },
    {
     "data": {
      "text/html": [
       "<pre style=\"white-space:pre;overflow-x:auto;line-height:normal;font-family:Menlo,'DejaVu Sans Mono',consolas,'Courier New',monospace\"><span style=\"font-weight: bold\"> Non-trainable params: </span><span style=\"color: #00af00; text-decoration-color: #00af00\">0</span> (0.00 B)\n",
       "</pre>\n"
      ],
      "text/plain": [
       "\u001b[1m Non-trainable params: \u001b[0m\u001b[38;5;34m0\u001b[0m (0.00 B)\n"
      ]
     },
     "metadata": {},
     "output_type": "display_data"
    }
   ],
   "source": [
    "# Input information for the tokenizer and padding\n",
    "max_length3 = 100\n",
    "embedding_dim3 = 128\n",
    "vocab_size3 = 10000\n",
    "dropout_rate3 = 0.5\n",
    "\n",
    "# Create the tokenizer\n",
    "tokenizer3 = Tokenizer(num_words=vocab_size3, oov_token=\"<OOV>\")\n",
    "tokenizer3.fit_on_texts(train_df['text'])\n",
    "\n",
    "# Apply the tokenizer\n",
    "X_train_seq3 = tokenizer3.texts_to_sequences(train_df['text'])\n",
    "X_test_seq3 = tokenizer3.texts_to_sequences(test_df['text'])\n",
    "\n",
    "# Apply the padding\n",
    "X_train_padded3 = pad_sequences(X_train_seq3, maxlen=max_length3, padding='post', truncating='post')\n",
    "X_test_padded3 = pad_sequences(X_test_seq3, maxlen=max_length3, padding='post', truncating='post')\n",
    "\n",
    "# Check the shapes\n",
    "print(\"X_train_padded shape:\", X_train_padded3.shape)\n",
    "print(\"X_test_padded shape:\", X_test_padded3.shape)\n",
    "print(\"y_train shape:\", y_train.shape)\n",
    "\n",
    "# Define Model3\n",
    "model3 = Sequential([\n",
    "    Embedding(input_dim=vocab_size3, output_dim=embedding_dim3, input_length=max_length3),\n",
    "    Bidirectional(LSTM(128, return_sequences=True)),\n",
    "    Dropout(dropout_rate3),\n",
    "    Bidirectional(LSTM(64)),\n",
    "    Dropout(dropout_rate3),\n",
    "    Dense(64, activation='relu', kernel_regularizer=l2(0.03)),\n",
    "    Dense(1, activation='sigmoid')  # Binary classification\n",
    "])\n",
    "\n",
    "# Build the Model3\n",
    "model3.build(input_shape=(None, max_length))  # None for batch size, max_length for sequence length\n",
    "\n",
    "# Print the Model3 summary\n",
    "model3.summary()\n",
    "\n",
    "# Apply the loss function, optimizer, and metrics to Model3\n",
    "model3.compile(loss='binary_crossentropy', optimizer=Adam(learning_rate=0.0001), metrics=['accuracy'])"
   ]
  },
  {
   "cell_type": "code",
   "execution_count": 22,
   "id": "9f0d2380",
   "metadata": {
    "execution": {
     "iopub.execute_input": "2024-12-08T03:22:11.774953Z",
     "iopub.status.busy": "2024-12-08T03:22:11.774512Z",
     "iopub.status.idle": "2024-12-08T03:28:21.151001Z",
     "shell.execute_reply": "2024-12-08T03:28:21.149556Z"
    },
    "papermill": {
     "duration": 369.675509,
     "end_time": "2024-12-08T03:28:21.326945",
     "exception": false,
     "start_time": "2024-12-08T03:22:11.651436",
     "status": "completed"
    },
    "tags": []
   },
   "outputs": [
    {
     "name": "stdout",
     "output_type": "stream",
     "text": [
      "Epoch 1/10\n",
      "\u001b[1m96/96\u001b[0m \u001b[32m━━━━━━━━━━━━━━━━━━━━\u001b[0m\u001b[37m\u001b[0m \u001b[1m42s\u001b[0m 376ms/step - accuracy: 0.5457 - loss: 3.1520 - val_accuracy: 0.5345 - val_loss: 2.8676\n",
      "Epoch 2/10\n",
      "\u001b[1m96/96\u001b[0m \u001b[32m━━━━━━━━━━━━━━━━━━━━\u001b[0m\u001b[37m\u001b[0m \u001b[1m35s\u001b[0m 369ms/step - accuracy: 0.5744 - loss: 2.7682 - val_accuracy: 0.5345 - val_loss: 2.5229\n",
      "Epoch 3/10\n",
      "\u001b[1m96/96\u001b[0m \u001b[32m━━━━━━━━━━━━━━━━━━━━\u001b[0m\u001b[37m\u001b[0m \u001b[1m35s\u001b[0m 369ms/step - accuracy: 0.6739 - loss: 2.3830 - val_accuracy: 0.7748 - val_loss: 2.0865\n",
      "Epoch 4/10\n",
      "\u001b[1m96/96\u001b[0m \u001b[32m━━━━━━━━━━━━━━━━━━━━\u001b[0m\u001b[37m\u001b[0m \u001b[1m41s\u001b[0m 369ms/step - accuracy: 0.8401 - loss: 1.9249 - val_accuracy: 0.7741 - val_loss: 1.8257\n",
      "Epoch 5/10\n",
      "\u001b[1m96/96\u001b[0m \u001b[32m━━━━━━━━━━━━━━━━━━━━\u001b[0m\u001b[37m\u001b[0m \u001b[1m36s\u001b[0m 370ms/step - accuracy: 0.8781 - loss: 1.6281 - val_accuracy: 0.7551 - val_loss: 1.6803\n",
      "Epoch 6/10\n",
      "\u001b[1m96/96\u001b[0m \u001b[32m━━━━━━━━━━━━━━━━━━━━\u001b[0m\u001b[37m\u001b[0m \u001b[1m35s\u001b[0m 367ms/step - accuracy: 0.8999 - loss: 1.3809 - val_accuracy: 0.7945 - val_loss: 1.4806\n",
      "Epoch 7/10\n",
      "\u001b[1m96/96\u001b[0m \u001b[32m━━━━━━━━━━━━━━━━━━━━\u001b[0m\u001b[37m\u001b[0m \u001b[1m35s\u001b[0m 367ms/step - accuracy: 0.9199 - loss: 1.1769 - val_accuracy: 0.7768 - val_loss: 1.3955\n",
      "Epoch 8/10\n",
      "\u001b[1m96/96\u001b[0m \u001b[32m━━━━━━━━━━━━━━━━━━━━\u001b[0m\u001b[37m\u001b[0m \u001b[1m35s\u001b[0m 369ms/step - accuracy: 0.9180 - loss: 1.0283 - val_accuracy: 0.7695 - val_loss: 1.3157\n",
      "Epoch 9/10\n",
      "\u001b[1m96/96\u001b[0m \u001b[32m━━━━━━━━━━━━━━━━━━━━\u001b[0m\u001b[37m\u001b[0m \u001b[1m36s\u001b[0m 369ms/step - accuracy: 0.9376 - loss: 0.8703 - val_accuracy: 0.7367 - val_loss: 1.3305\n",
      "Epoch 10/10\n",
      "\u001b[1m96/96\u001b[0m \u001b[32m━━━━━━━━━━━━━━━━━━━━\u001b[0m\u001b[37m\u001b[0m \u001b[1m38s\u001b[0m 397ms/step - accuracy: 0.9465 - loss: 0.7323 - val_accuracy: 0.7433 - val_loss: 1.2472\n"
     ]
    }
   ],
   "source": [
    "history3 = model3.fit(X_train_padded3, y_train, epochs=10, batch_size=64, validation_split=0.2)"
   ]
  },
  {
   "cell_type": "code",
   "execution_count": 23,
   "id": "7e5d52d9",
   "metadata": {
    "execution": {
     "iopub.execute_input": "2024-12-08T03:28:21.733473Z",
     "iopub.status.busy": "2024-12-08T03:28:21.732690Z",
     "iopub.status.idle": "2024-12-08T03:28:22.161302Z",
     "shell.execute_reply": "2024-12-08T03:28:22.160187Z"
    },
    "papermill": {
     "duration": 0.606883,
     "end_time": "2024-12-08T03:28:22.163510",
     "exception": false,
     "start_time": "2024-12-08T03:28:21.556627",
     "status": "completed"
    },
    "tags": []
   },
   "outputs": [
    {
     "data": {
      "image/png": "[encoded data removed]",
      "text/plain": [
       "<Figure size 640x480 with 1 Axes>"
      ]
     },
     "metadata": {},
     "output_type": "display_data"
    },
    {
     "data": {
      "image/png": "[encoded data removed]",
      "text/plain": [
       "<Figure size 640x480 with 1 Axes>"
      ]
     },
     "metadata": {},
     "output_type": "display_data"
    }
   ],
   "source": [
    "# Plot accuracy\n",
    "plt.plot(history3.history['accuracy'], label='train_accuracy')\n",
    "plt.plot(history3.history['val_accuracy'], label='val_accuracy')\n",
    "plt.xlabel('Epochs')\n",
    "plt.ylabel('Accuracy')\n",
    "plt.legend()\n",
    "plt.show()\n",
    "\n",
    "# Plot loss\n",
    "plt.plot(history3.history['loss'], label='train_loss')\n",
    "plt.plot(history3.history['val_loss'], label='val_loss')\n",
    "plt.xlabel('Epochs')\n",
    "plt.ylabel('Loss')\n",
    "plt.legend()\n",
    "plt.show()"
   ]
  },
  {
   "cell_type": "markdown",
   "id": "86ac95d7",
   "metadata": {
    "papermill": {
     "duration": 0.174387,
     "end_time": "2024-12-08T03:28:22.514602",
     "exception": false,
     "start_time": "2024-12-08T03:28:22.340215",
     "status": "completed"
    },
    "tags": []
   },
   "source": [
    "# Evaluation \n",
    "The Accuracy, F1 Score, Recall, and Precision were all calculated for each of the RNN models to compare overall performance. The confusion matrices for each model predictions were also developed. "
   ]
  },
  {
   "cell_type": "code",
   "execution_count": 24,
   "id": "b2300b99",
   "metadata": {
    "execution": {
     "iopub.execute_input": "2024-12-08T03:28:22.863904Z",
     "iopub.status.busy": "2024-12-08T03:28:22.863154Z",
     "iopub.status.idle": "2024-12-08T03:28:22.956131Z",
     "shell.execute_reply": "2024-12-08T03:28:22.955053Z"
    },
    "papermill": {
     "duration": 0.269912,
     "end_time": "2024-12-08T03:28:22.958575",
     "exception": false,
     "start_time": "2024-12-08T03:28:22.688663",
     "status": "completed"
    },
    "tags": []
   },
   "outputs": [],
   "source": [
    "# Tokenize the validation set\n",
    "X_val_seq = tokenizer.texts_to_sequences(X_val)\n",
    "X_val_padded = pad_sequences(X_val_seq, maxlen=max_length, padding='post', truncating='post')\n",
    "\n",
    "X_val_seq2 = tokenizer2.texts_to_sequences(X_val)\n",
    "X_val_padded2 = pad_sequences(X_val_seq2, maxlen=max_length2, padding='post', truncating='post')\n",
    "\n",
    "X_val_seq3 = tokenizer3.texts_to_sequences(X_val)\n",
    "X_val_padded3 = pad_sequences(X_val_seq3, maxlen=max_length3, padding='post', truncating='post')\n"
   ]
  },
  {
   "cell_type": "code",
   "execution_count": 25,
   "id": "38457585",
   "metadata": {
    "execution": {
     "iopub.execute_input": "2024-12-08T03:28:23.313657Z",
     "iopub.status.busy": "2024-12-08T03:28:23.313236Z",
     "iopub.status.idle": "2024-12-08T03:28:37.631798Z",
     "shell.execute_reply": "2024-12-08T03:28:37.630630Z"
    },
    "papermill": {
     "duration": 14.498697,
     "end_time": "2024-12-08T03:28:37.634010",
     "exception": false,
     "start_time": "2024-12-08T03:28:23.135313",
     "status": "completed"
    },
    "tags": []
   },
   "outputs": [
    {
     "name": "stdout",
     "output_type": "stream",
     "text": [
      "\u001b[1m48/48\u001b[0m \u001b[32m━━━━━━━━━━━━━━━━━━━━\u001b[0m\u001b[37m\u001b[0m \u001b[1m5s\u001b[0m 84ms/step\n",
      "\u001b[1m48/48\u001b[0m \u001b[32m━━━━━━━━━━━━━━━━━━━━\u001b[0m\u001b[37m\u001b[0m \u001b[1m5s\u001b[0m 92ms/step\n",
      "\u001b[1m48/48\u001b[0m \u001b[32m━━━━━━━━━━━━━━━━━━━━\u001b[0m\u001b[37m\u001b[0m \u001b[1m5s\u001b[0m 85ms/step\n",
      "Model Metrics:\n",
      "Model 1 - Accuracy: 0.9278, Precision: 0.9178, Recall: 0.9122, F1-Score: 0.9150\n",
      "Model 2 - Accuracy: 0.9251, Precision: 0.9407, Recall: 0.8798, F1-Score: 0.9092\n",
      "Model 3 - Accuracy: 0.9054, Precision: 0.8915, Recall: 0.8860, F1-Score: 0.8887\n"
     ]
    }
   ],
   "source": [
    "# Generate predictions for each model\n",
    "predictions_model1 = (model1.predict(X_val_padded) > 0.5).astype(int)\n",
    "predictions_model2 = (model2.predict(X_val_padded2) > 0.5).astype(int)\n",
    "predictions_model3 = (model3.predict(X_val_padded3) > 0.5).astype(int)\n",
    "\n",
    "# Compute precision, recall, and F1-score for each model\n",
    "precision1 = precision_score(y_val, predictions_model1)\n",
    "recall1 = recall_score(y_val, predictions_model1)\n",
    "f1_1 = f1_score(y_val, predictions_model1)\n",
    "accuracy1 = accuracy_score(y_val, predictions_model1)\n",
    "\n",
    "precision2 = precision_score(y_val, predictions_model2)\n",
    "recall2 = recall_score(y_val, predictions_model2)\n",
    "f1_2 = f1_score(y_val, predictions_model2)\n",
    "accuracy2 = accuracy_score(y_val, predictions_model2)\n",
    "\n",
    "precision3 = precision_score(y_val, predictions_model3)\n",
    "recall3 = recall_score(y_val, predictions_model3)\n",
    "f1_3 = f1_score(y_val, predictions_model3)\n",
    "accuracy3 = accuracy_score(y_val, predictions_model3)\n",
    "\n",
    "# Print the metrics for all models\n",
    "print(\"Model Metrics:\")\n",
    "print(f\"Model 1 - Accuracy: {accuracy1:.4f}, Precision: {precision1:.4f}, Recall: {recall1:.4f}, F1-Score: {f1_1:.4f}\")\n",
    "print(f\"Model 2 - Accuracy: {accuracy2:.4f}, Precision: {precision2:.4f}, Recall: {recall2:.4f}, F1-Score: {f1_2:.4f}\")\n",
    "print(f\"Model 3 - Accuracy: {accuracy3:.4f}, Precision: {precision3:.4f}, Recall: {recall3:.4f}, F1-Score: {f1_3:.4f}\")\n"
   ]
  },
  {
   "cell_type": "code",
   "execution_count": 26,
   "id": "c6b20231",
   "metadata": {
    "execution": {
     "iopub.execute_input": "2024-12-08T03:28:38.059424Z",
     "iopub.status.busy": "2024-12-08T03:28:38.059017Z",
     "iopub.status.idle": "2024-12-08T03:28:38.808674Z",
     "shell.execute_reply": "2024-12-08T03:28:38.807624Z"
    },
    "papermill": {
     "duration": 0.990893,
     "end_time": "2024-12-08T03:28:38.810890",
     "exception": false,
     "start_time": "2024-12-08T03:28:37.819997",
     "status": "completed"
    },
    "tags": []
   },
   "outputs": [
    {
     "data": {
      "image/png": "[encoded data removed]",
      "text/plain": [
       "<Figure size 640x480 with 2 Axes>"
      ]
     },
     "metadata": {},
     "output_type": "display_data"
    },
    {
     "data": {
      "image/png": "[encoded data removed]",
      "text/plain": [
       "<Figure size 640x480 with 2 Axes>"
      ]
     },
     "metadata": {},
     "output_type": "display_data"
    },
    {
     "data": {
      "image/png": "[encoded data removed]",
      "text/plain": [
       "<Figure size 640x480 with 2 Axes>"
      ]
     },
     "metadata": {},
     "output_type": "display_data"
    }
   ],
   "source": [
    "# Confusion matrix for Model 1\n",
    "cm1 = confusion_matrix(y_val, predictions_model1)\n",
    "disp1 = ConfusionMatrixDisplay(confusion_matrix=cm1, display_labels=[\"Non-Disaster\", \"Disaster\"])\n",
    "disp1.plot(cmap=plt.cm.Blues)\n",
    "plt.title(\"Confusion Matrix - Model 1\")\n",
    "plt.show()\n",
    "\n",
    "# Confusion matrix for Model 2\n",
    "cm2 = confusion_matrix(y_val, predictions_model2)\n",
    "disp2 = ConfusionMatrixDisplay(confusion_matrix=cm2, display_labels=[\"Non-Disaster\", \"Disaster\"])\n",
    "disp2.plot(cmap=plt.cm.Blues)\n",
    "plt.title(\"Confusion Matrix - Model 2\")\n",
    "plt.show()\n",
    "\n",
    "# Confusion matrix for Model 3\n",
    "cm3 = confusion_matrix(y_val, predictions_model3)\n",
    "disp3 = ConfusionMatrixDisplay(confusion_matrix=cm3, display_labels=[\"Non-Disaster\", \"Disaster\"])\n",
    "disp3.plot(cmap=plt.cm.Blues)\n",
    "plt.title(\"Confusion Matrix - Model 3\")\n",
    "plt.show()"
   ]
  },
  {
   "cell_type": "code",
   "execution_count": 27,
   "id": "2e51705b",
   "metadata": {
    "execution": {
     "iopub.execute_input": "2024-12-08T03:28:39.188570Z",
     "iopub.status.busy": "2024-12-08T03:28:39.188176Z",
     "iopub.status.idle": "2024-12-08T03:28:47.216301Z",
     "shell.execute_reply": "2024-12-08T03:28:47.215097Z"
    },
    "papermill": {
     "duration": 8.22,
     "end_time": "2024-12-08T03:28:47.218935",
     "exception": false,
     "start_time": "2024-12-08T03:28:38.998935",
     "status": "completed"
    },
    "tags": []
   },
   "outputs": [
    {
     "name": "stdout",
     "output_type": "stream",
     "text": [
      "\u001b[1m102/102\u001b[0m \u001b[32m━━━━━━━━━━━━━━━━━━━━\u001b[0m\u001b[37m\u001b[0m \u001b[1m8s\u001b[0m 78ms/step\n"
     ]
    }
   ],
   "source": [
    "# Create the submission DataFrame\n",
    "test_predictions = (model2.predict(X_test_padded2) > 0.5).astype(int)\n",
    "\n",
    "submission = pd.DataFrame({\n",
    "    \"id\": test_df[\"id\"],  # Use the 'id' column from the test dataset\n",
    "    \"target\": test_predictions.flatten()  # Flatten predictions to match shape\n",
    "})"
   ]
  },
  {
   "cell_type": "code",
   "execution_count": 28,
   "id": "f5754200",
   "metadata": {
    "execution": {
     "iopub.execute_input": "2024-12-08T03:28:47.603051Z",
     "iopub.status.busy": "2024-12-08T03:28:47.602636Z",
     "iopub.status.idle": "2024-12-08T03:28:47.613892Z",
     "shell.execute_reply": "2024-12-08T03:28:47.612855Z"
    },
    "papermill": {
     "duration": 0.20577,
     "end_time": "2024-12-08T03:28:47.615991",
     "exception": false,
     "start_time": "2024-12-08T03:28:47.410221",
     "status": "completed"
    },
    "tags": []
   },
   "outputs": [
    {
     "name": "stdout",
     "output_type": "stream",
     "text": [
      "Submission file created successfully!\n"
     ]
    }
   ],
   "source": [
    "# Create the submission csv\n",
    "submission.to_csv(\"submission.csv\", index=False)\n",
    "\n",
    "print(\"Submission file created successfully!\")"
   ]
  },
  {
   "cell_type": "markdown",
   "id": "37e117b5",
   "metadata": {
    "papermill": {
     "duration": 0.190745,
     "end_time": "2024-12-08T03:28:47.998879",
     "exception": false,
     "start_time": "2024-12-08T03:28:47.808134",
     "status": "completed"
    },
    "tags": []
   },
   "source": [
    "# Conclusions:\n",
    "The model metrics for the three RNN models are detailed below (when first ran):\n",
    "\n",
    "- Model 1 - Accuracy: 0.9304, Precision: 0.9022, Recall: 0.9384, F1-Score: 0.9199\n",
    "- Model 2 - Accuracy: 0.9173, Precision: 0.9252, Recall: 0.8767, F1-Score: 0.9003\n",
    "- Model 3 - Accuracy: 0.9074, Precision: 0.9164, Recall: 0.8613, F1-Score: 0.8880\n",
    "\n",
    "Based on these results the Model 1 had the best accuracy, recall, and F1-score, whereas Model 2 had the best precision and had the second highest metrics in every other category. Based off the plots for the Accuracy vs. Epochs and the Loss vs. Epochs, Model 1 severly overfits the data; therefore, Model 2 is a better overall selection. While Model 3 addresses the overfitting even more, Model 2 seems to provide a good balance of both performance and fit. \n",
    "\n",
    "The results from the TF-IDF Vectorization and Logistic Regression model were not as accurate as the RNN models based on the results above. \n",
    "\n",
    "Next steps could include further tuning of hyperparameters, such as adding Batch Normalization, tuning the learning rate, L2 Regularization factor, and other features in the layers of the model. "
   ]
  }
 ],
 "metadata": {
  "kaggle": {
   "accelerator": "none",
   "dataSources": [
    {
     "databundleVersionId": 869809,
     "sourceId": 17777,
     "sourceType": "competition"
    }
   ],
   "dockerImageVersionId": 30804,
   "isGpuEnabled": false,
   "isInternetEnabled": false,
   "language": "python",
   "sourceType": "notebook"
  },
  "kernelspec": {
   "display_name": "Python 3",
   "language": "python",
   "name": "python3"
  },
  "language_info": {
   "codemirror_mode": {
    "name": "ipython",
    "version": 3
   },
   "file_extension": ".py",
   "mimetype": "text/x-python",
   "name": "python",
   "nbconvert_exporter": "python",
   "pygments_lexer": "ipython3",
   "version": "3.10.14"
  },
  "papermill": {
   "default_parameters": {},
   "duration": 1175.594448,
   "end_time": "2024-12-08T03:28:50.728738",
   "environment_variables": {},
   "exception": null,
   "input_path": "__notebook__.ipynb",
   "output_path": "__notebook__.ipynb",
   "parameters": {},
   "start_time": "2024-12-08T03:09:15.134290",
   "version": "2.6.0"
  }
 },
 "nbformat": 4,
 "nbformat_minor": 5
}
